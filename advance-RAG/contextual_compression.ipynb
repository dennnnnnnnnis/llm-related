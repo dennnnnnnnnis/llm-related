{
 "cells": [
  {
   "cell_type": "markdown",
   "metadata": {},
   "source": [
    "### Contextual Compression\n",
    "\n",
    "The main idea of RAG with Contextual Compression is to improve the quality of the documents before sending it to a LLM. Instead of sending the raw chunks from the retrieval part, the documents chunks will be processed and the not usefull information discarded.\n",
    "\n",
    "![contextual_comp](img/contextual-compression.png)\n",
    "\n",
    "- Reference 1: https://medium.com/@SrGrace_/contextual-compression-langchain-llamaindex-7675c8d1f9eb\n",
    "- Reference 2: https://python.langchain.com/docs/how_to/contextual_compression/\n",
    "\n",
    "![img1](img/img1.png)"
   ]
  },
  {
   "cell_type": "code",
   "execution_count": 1,
   "metadata": {},
   "outputs": [],
   "source": [
    "import os\n",
    "from langchain_community.vectorstores import FAISS\n",
    "from langchain_text_splitters import RecursiveCharacterTextSplitter\n",
    "from langchain.document_loaders import DirectoryLoader, TextLoader, PyMuPDFLoader\n",
    "from langchain_huggingface import HuggingFaceEmbeddings\n",
    "from langchain_openai import ChatOpenAI"
   ]
  },
  {
   "cell_type": "code",
   "execution_count": 2,
   "metadata": {},
   "outputs": [],
   "source": [
    "os.environ['SENTENCE_TRANSFORMERS_HOME'] = '/Users/wangzeyu/Desktop/Github projects/legalai-chatbot/huggingface-models'"
   ]
  },
  {
   "cell_type": "markdown",
   "metadata": {},
   "source": [
    "### Load documents"
   ]
  },
  {
   "cell_type": "code",
   "execution_count": 3,
   "metadata": {},
   "outputs": [
    {
     "name": "stderr",
     "output_type": "stream",
     "text": [
      "100%|██████████| 4/4 [00:00<00:00, 11.52it/s]"
     ]
    },
    {
     "name": "stdout",
     "output_type": "stream",
     "text": [
      "Documents:  45\n"
     ]
    },
    {
     "name": "stderr",
     "output_type": "stream",
     "text": [
      "\n"
     ]
    }
   ],
   "source": [
    "loader = DirectoryLoader(\n",
    "    path = '/Users/wangzeyu/Desktop/Github projects/legalai-chatbot/data/boardgames_rulebooks/',\n",
    "    glob=\"./*.pdf\",\n",
    "    loader_cls=PyMuPDFLoader,\n",
    "    show_progress=True\n",
    ")\n",
    "documents = loader.load()\n",
    "print('Documents: ',len(documents))"
   ]
  },
  {
   "cell_type": "code",
   "execution_count": 4,
   "metadata": {},
   "outputs": [
    {
     "data": {
      "text/plain": [
       "Document(metadata={'producer': '1jour-1jeu.com', 'creator': '1jour-1jeu.com', 'creationdate': '2013-12-11T15:42:07+01:00', 'source': '/Users/wangzeyu/Desktop/Github projects/legalai-chatbot/data/boardgames_rulebooks/ba-splendor-rulebook copy.pdf', 'file_path': '/Users/wangzeyu/Desktop/Github projects/legalai-chatbot/data/boardgames_rulebooks/ba-splendor-rulebook copy.pdf', 'total_pages': 4, 'format': 'PDF 1.4', 'title': 'Splendor Rulebook - 1jour-1jeu.com', 'author': '1jour-1jeu.com', 'subject': 'Splendor Rulebook - 1jour-1jeu.com', 'keywords': 'Splendor Rulebook - 1jour-1jeu.com', 'moddate': '2018-08-31T16:32:10+02:00', 'trapped': '', 'modDate': \"D:20180831163210+02'00'\", 'creationDate': \"D:20131211154207+01'00'\", 'page': 0}, page_content='')"
      ]
     },
     "execution_count": 4,
     "metadata": {},
     "output_type": "execute_result"
    }
   ],
   "source": [
    "documents[0]"
   ]
  },
  {
   "cell_type": "markdown",
   "metadata": {},
   "source": [
    "### Split the documents"
   ]
  },
  {
   "cell_type": "code",
   "execution_count": 5,
   "metadata": {},
   "outputs": [],
   "source": [
    "text_splitter = RecursiveCharacterTextSplitter(\n",
    "    chunk_size = 1200,\n",
    "    chunk_overlap = 100\n",
    ")\n",
    "docs = text_splitter.split_documents(documents)"
   ]
  },
  {
   "cell_type": "code",
   "execution_count": 6,
   "metadata": {},
   "outputs": [
    {
     "data": {
      "text/plain": [
       "173"
      ]
     },
     "execution_count": 6,
     "metadata": {},
     "output_type": "execute_result"
    }
   ],
   "source": [
    "len(docs)"
   ]
  },
  {
   "cell_type": "markdown",
   "metadata": {},
   "source": [
    "### Embeddings"
   ]
  },
  {
   "cell_type": "code",
   "execution_count": 7,
   "metadata": {},
   "outputs": [],
   "source": [
    "embeddings = HuggingFaceEmbeddings(\n",
    "    model_name='BAAI/bge-small-en-v1.5', \n",
    "    model_kwargs={'device': 'cpu'},\n",
    "    show_progress=True\n",
    ")"
   ]
  },
  {
   "cell_type": "code",
   "execution_count": 8,
   "metadata": {},
   "outputs": [],
   "source": [
    "db = FAISS.load_local('/Users/wangzeyu/Desktop/Github projects/legalai-chatbot/rag-optimizations/faiss_pdfs', embeddings, allow_dangerous_deserialization=True)"
   ]
  },
  {
   "cell_type": "code",
   "execution_count": null,
   "metadata": {},
   "outputs": [],
   "source": [
    "# db = FAISS.from_documents(docs, embeddings)\n",
    "# db.save_local('/Users/wangzeyu/Desktop/Github projects/legalai-chatbot/rag-optimizations/faiss_pdfs')"
   ]
  },
  {
   "cell_type": "code",
   "execution_count": 10,
   "metadata": {},
   "outputs": [],
   "source": [
    "retriever = db.as_retriever()"
   ]
  },
  {
   "cell_type": "markdown",
   "metadata": {},
   "source": [
    "### LLM"
   ]
  },
  {
   "cell_type": "code",
   "execution_count": 11,
   "metadata": {},
   "outputs": [],
   "source": [
    "model = ChatOpenAI(model='/Users/wangzeyu/Desktop/Github projects/legalai-chatbot/huggingface-models/models--Qwen--Qwen2.5-0.5B-Instruct/snapshots/7ae557604adf67be50417f59c2c2f167def9a775', base_url='http://0.0.0.0:8000/v1', api_key='n')"
   ]
  },
  {
   "cell_type": "markdown",
   "metadata": {},
   "source": [
    "### 1. LLMChainExtractor"
   ]
  },
  {
   "cell_type": "code",
   "execution_count": 12,
   "metadata": {},
   "outputs": [],
   "source": [
    "from langchain.retrievers import ContextualCompressionRetriever\n",
    "from langchain.retrievers.document_compressors import LLMChainExtractor"
   ]
  },
  {
   "cell_type": "code",
   "execution_count": 13,
   "metadata": {},
   "outputs": [],
   "source": [
    "# will iterate over the initially returned documents and extract from \n",
    "# each only the content that is relevant to the query.\n",
    "compressor = LLMChainExtractor.from_llm(model)\n",
    "retriever1 = ContextualCompressionRetriever(\n",
    "    base_compressor=compressor, base_retriever=retriever\n",
    ")"
   ]
  },
  {
   "cell_type": "markdown",
   "metadata": {},
   "source": [
    "### 2. LLMChainFilter"
   ]
  },
  {
   "cell_type": "code",
   "execution_count": 14,
   "metadata": {},
   "outputs": [],
   "source": [
    "from langchain.retrievers.document_compressors import LLMChainFilter"
   ]
  },
  {
   "cell_type": "code",
   "execution_count": 15,
   "metadata": {},
   "outputs": [],
   "source": [
    "# LLMChainFilter: slightly simpler but more robust compressor that uses \n",
    "# an LLM chain to decide which of the initially retrieved documents to \n",
    "# filter out and which ones to return, without manipulating the document contents.\n",
    "_filter = LLMChainFilter.from_llm(model)\n",
    "retriever2 = ContextualCompressionRetriever(\n",
    "    base_compressor=_filter, base_retriever=retriever\n",
    ")"
   ]
  },
  {
   "cell_type": "markdown",
   "metadata": {},
   "source": [
    "### 3. LLMListwiseRerank"
   ]
  },
  {
   "cell_type": "code",
   "execution_count": 16,
   "metadata": {},
   "outputs": [],
   "source": [
    "from langchain.retrievers.document_compressors import LLMListwiseRerank"
   ]
  },
  {
   "cell_type": "code",
   "execution_count": 17,
   "metadata": {},
   "outputs": [],
   "source": [
    "# uses zero-shot listwise document reranking and functions similarly to \n",
    "# LLMChainFilter as a robust but more expensive option. It is recommended \n",
    "# to use a more powerful LLM.\n",
    "_filter = LLMListwiseRerank.from_llm(model, top_n=2)\n",
    "retriever3 = ContextualCompressionRetriever(\n",
    "    base_compressor=_filter, base_retriever=retriever\n",
    ")"
   ]
  },
  {
   "cell_type": "markdown",
   "metadata": {},
   "source": [
    "### 4. EmbeddingsFilter"
   ]
  },
  {
   "cell_type": "code",
   "execution_count": 18,
   "metadata": {},
   "outputs": [],
   "source": [
    "from langchain.retrievers.document_compressors import EmbeddingsFilter"
   ]
  },
  {
   "cell_type": "code",
   "execution_count": 19,
   "metadata": {},
   "outputs": [],
   "source": [
    "# provides a cheaper and faster option by embedding the documents and \n",
    "# query and only returning those documents which have sufficiently \n",
    "# similar embeddings to the query.\n",
    "embeddings_filter = EmbeddingsFilter(embeddings=embeddings, similarity_threshold=0.76)\n",
    "retriever4 = ContextualCompressionRetriever(\n",
    "    base_compressor=embeddings_filter, base_retriever=retriever\n",
    ")"
   ]
  },
  {
   "cell_type": "markdown",
   "metadata": {},
   "source": [
    "### 5. Combining Methods"
   ]
  },
  {
   "cell_type": "markdown",
   "metadata": {},
   "source": [
    "Using the `DocumentCompressorPipeline` we can also easily combine multiple compressors in sequence. Along with compressors we can add `BaseDocumentTransformers` to our pipeline, which don't perform any contextual compression but simply perform some transformation on a set of documents. For example `TextSplitters` can be used as document transformers to split documents into smaller pieces, and the `EmbeddingsRedundantFilter` can be used to filter out redundant documents based on embedding similarity between documents."
   ]
  },
  {
   "cell_type": "code",
   "execution_count": 20,
   "metadata": {},
   "outputs": [],
   "source": [
    "from langchain.retrievers.document_compressors import DocumentCompressorPipeline\n",
    "from langchain_community.document_transformers import EmbeddingsRedundantFilter\n",
    "from langchain_text_splitters import CharacterTextSplitter"
   ]
  },
  {
   "cell_type": "code",
   "execution_count": 21,
   "metadata": {},
   "outputs": [],
   "source": [
    "# create a compressor pipeline by first splitting our docs into smaller \n",
    "# chunks, then removing redundant documents, and then filtering based \n",
    "# on relevance to the query.\n",
    "splitter = RecursiveCharacterTextSplitter(chunk_size=300, chunk_overlap=0, separators=\". \")\n",
    "redundant_filter = EmbeddingsRedundantFilter(embeddings=embeddings)\n",
    "relevant_filter = EmbeddingsFilter(embeddings=embeddings, similarity_threshold=0.76)\n",
    "pipeline_compressor = DocumentCompressorPipeline(\n",
    "    transformers=[splitter, redundant_filter, relevant_filter]\n",
    ")"
   ]
  },
  {
   "cell_type": "code",
   "execution_count": 22,
   "metadata": {},
   "outputs": [],
   "source": [
    "retriever_combine = ContextualCompressionRetriever(\n",
    "    base_compressor=pipeline_compressor, base_retriever=retriever\n",
    ")"
   ]
  },
  {
   "cell_type": "markdown",
   "metadata": {},
   "source": [
    "### Retrieval"
   ]
  },
  {
   "cell_type": "code",
   "execution_count": 23,
   "metadata": {},
   "outputs": [],
   "source": [
    "def pretty_print_docs(docs):\n",
    "    print(\n",
    "        f\"\\n{'-' * 100}\\n\".join(\n",
    "            [f\"Document {i+1}:\\n\\n\" + d.page_content for i, d in enumerate(docs)]\n",
    "        )\n",
    "    )"
   ]
  },
  {
   "cell_type": "code",
   "execution_count": 24,
   "metadata": {},
   "outputs": [],
   "source": [
    "query = 'How to Win in Root?'"
   ]
  },
  {
   "cell_type": "code",
   "execution_count": 25,
   "metadata": {},
   "outputs": [
    {
     "data": {
      "application/vnd.jupyter.widget-view+json": {
       "model_id": "9ea16f6ebd864347be46ffef2d03347a",
       "version_major": 2,
       "version_minor": 0
      },
      "text/plain": [
       "Batches:   0%|          | 0/1 [00:00<?, ?it/s]"
      ]
     },
     "metadata": {},
     "output_type": "display_data"
    },
    {
     "data": {
      "application/vnd.jupyter.widget-view+json": {
       "model_id": "69132806a9af4ed786641f7502733e9f",
       "version_major": 2,
       "version_minor": 0
      },
      "text/plain": [
       "Batches:   0%|          | 0/1 [00:00<?, ?it/s]"
      ]
     },
     "metadata": {},
     "output_type": "display_data"
    },
    {
     "data": {
      "application/vnd.jupyter.widget-view+json": {
       "model_id": "e798d215f06b421094380e1660f9578d",
       "version_major": 2,
       "version_minor": 0
      },
      "text/plain": [
       "Batches:   0%|          | 0/1 [00:00<?, ?it/s]"
      ]
     },
     "metadata": {},
     "output_type": "display_data"
    },
    {
     "data": {
      "application/vnd.jupyter.widget-view+json": {
       "model_id": "bdcf61c5a0ea4760b211f147184fb23b",
       "version_major": 2,
       "version_minor": 0
      },
      "text/plain": [
       "Batches:   0%|          | 0/1 [00:00<?, ?it/s]"
      ]
     },
     "metadata": {},
     "output_type": "display_data"
    },
    {
     "data": {
      "application/vnd.jupyter.widget-view+json": {
       "model_id": "4d2cb676aefa4559b92661af6a70f9d6",
       "version_major": 2,
       "version_minor": 0
      },
      "text/plain": [
       "Batches:   0%|          | 0/1 [00:00<?, ?it/s]"
      ]
     },
     "metadata": {},
     "output_type": "display_data"
    },
    {
     "data": {
      "application/vnd.jupyter.widget-view+json": {
       "model_id": "c9120954b1e140f099984738b0e800c9",
       "version_major": 2,
       "version_minor": 0
      },
      "text/plain": [
       "Batches:   0%|          | 0/1 [00:00<?, ?it/s]"
      ]
     },
     "metadata": {},
     "output_type": "display_data"
    },
    {
     "data": {
      "application/vnd.jupyter.widget-view+json": {
       "model_id": "a81cca881d0b433fa3f06b77449a9677",
       "version_major": 2,
       "version_minor": 0
      },
      "text/plain": [
       "Batches:   0%|          | 0/1 [00:00<?, ?it/s]"
      ]
     },
     "metadata": {},
     "output_type": "display_data"
    },
    {
     "data": {
      "application/vnd.jupyter.widget-view+json": {
       "model_id": "cbfac3cff209404ebe29e8bbf3f68b1d",
       "version_major": 2,
       "version_minor": 0
      },
      "text/plain": [
       "Batches:   0%|          | 0/1 [00:00<?, ?it/s]"
      ]
     },
     "metadata": {},
     "output_type": "display_data"
    },
    {
     "data": {
      "application/vnd.jupyter.widget-view+json": {
       "model_id": "9062616711384ed1b6d9ee97c06c7a5b",
       "version_major": 2,
       "version_minor": 0
      },
      "text/plain": [
       "Batches:   0%|          | 0/1 [00:00<?, ?it/s]"
      ]
     },
     "metadata": {},
     "output_type": "display_data"
    },
    {
     "data": {
      "application/vnd.jupyter.widget-view+json": {
       "model_id": "dcf5c29610aa47f6b7d85d742be4b648",
       "version_major": 2,
       "version_minor": 0
      },
      "text/plain": [
       "Batches:   0%|          | 0/1 [00:00<?, ?it/s]"
      ]
     },
     "metadata": {},
     "output_type": "display_data"
    }
   ],
   "source": [
    "base_docs = retriever.invoke(query)\n",
    "chain_extractor_docs = retriever1.invoke(query)\n",
    "chain_filter_docs = retriever2.invoke(query)\n",
    "rerank_docs = retriever3.invoke(query)\n",
    "embed_filter_docs = retriever4.invoke(query)\n",
    "combine_docs = retriever_combine.invoke(query)"
   ]
  },
  {
   "cell_type": "code",
   "execution_count": 26,
   "metadata": {},
   "outputs": [
    {
     "name": "stdout",
     "output_type": "stream",
     "text": [
      "Document 1:\n",
      "\n",
      "II     Recruit. Place one warrior in the Burrow.\n",
      "III     Move. Take a move.\n",
      "IV     Battle. Initiate a battle.\n",
      "V     Dig. Spend one card to place a tunnel token \n",
      "in a matching clearing without a tunnel token. \n",
      "Then, move up to four warriors from the Bur-\n",
      "row to that clearing. (If all three tunnels are on \n",
      "the map, you may remove a tunnel first.)\n",
      "12.5.2     Parliament. You may take the action of each \n",
      "swayed minister once in any order. \n",
      "I     Foremole. Reveal any card to place a citadel or \n",
      "market in any clearing (matching or not) you rule.\n",
      "II     Captain. Initiate a battle.\n",
      "III     Marshal. Take a move.\n",
      "IV     Brigadier. Take up to two moves or initiate up \n",
      "to two battles.\n",
      "V     Banker. Spend any number of cards (even one) \n",
      "of the same suit to score victory points in equal \n",
      "number.\n",
      "VI     Mayor. Take the action of any swayed noble \n",
      "or squire.\n",
      "VII     Duchess of Mud. Score two victory points if \n",
      "all three tunnels are on the map.\n",
      "VIII     Baron of Dirt. Score one victory point per \n",
      "market on the map.\n",
      "IX     Earl of Stone. Score one victory point per cit-\n",
      "adel on the map.\n",
      "12.5.3     Sway. You may sway one minister, as follows.\n",
      "I     Choose Minister. Choose a minister card in\n",
      "----------------------------------------------------------------------------------------------------\n",
      "Document 2:\n",
      "\n",
      "B.4.4     Other. 4 Faction Boards.\n",
      "B.5 Exiles and Partisans Deck P\n",
      "B.5.1     Cards. 54 Cards for Shared Deck.\n",
      "B.6 Vagabond Pack B\n",
      "B.6.1     Cardboard Pieces. 3 Items (1 Coins, 1 Hammer, \n",
      "1 Boot).\n",
      "B.6.2     Wooden Pieces. 7 Vagabond Pawns.\n",
      "B.6.3     Cards. 3 Vagabond Characters.\n",
      "C. Variant Setup\n",
      "Before step 1 in setup (5.1.1), you may choose to follow \n",
      "any of the following steps in the following order.\n",
      "C.1 Step C1: Choose Map\n",
      "You may play on a map other than the fall map. If you \n",
      "do, collect the 12 suit markers, flip them face down, \n",
      "and shuffle them, then place one on each clearing, \n",
      "covering the printed suit symbols if any. Finally, follow \n",
      "the Setup Modifications section of the chosen map.\n",
      "C.2 Step C2: Choose Deck P\n",
      "You may replace the entire standard deck with the \n",
      "Exiles and Partisans deck.\n",
      "C.3 Step C3: Choose Bots C\n",
      "You may play with bots, as described in the Law of \n",
      "Rootbotics.\n",
      "APPENDICES \n",
      "A. Faction Combinations\n",
      "There are hundreds of ways to play Root. To help you \n",
      "pick a faction combination that will produce an inter-\n",
      "esting game, use this simple system. Each faction has \n",
      "a specific value called Reach. To create a viable setup,\n"
     ]
    }
   ],
   "source": [
    "pretty_print_docs(rerank_docs)"
   ]
  },
  {
   "cell_type": "markdown",
   "metadata": {},
   "source": [
    "### RAG"
   ]
  },
  {
   "cell_type": "code",
   "execution_count": 27,
   "metadata": {},
   "outputs": [],
   "source": [
    "from langchain_core.prompts import PromptTemplate\n",
    "from langchain_core.output_parsers import StrOutputParser"
   ]
  },
  {
   "cell_type": "code",
   "execution_count": 28,
   "metadata": {},
   "outputs": [],
   "source": [
    "prompt_template = \"\"\"Use the following pieces of context to answer the question at the end.\n",
    "If you don't know the answer, just say that you don't know, don't try to make up an answer.\n",
    "Keep the answer as concise as possible.\n",
    "\n",
    "Context: {context}\n",
    "\n",
    "Question: {question}\n",
    "\n",
    "Helpful Answer:\"\"\"\n",
    "prompt = PromptTemplate.from_template(prompt_template)"
   ]
  },
  {
   "cell_type": "code",
   "execution_count": 29,
   "metadata": {},
   "outputs": [],
   "source": [
    "rag_chain = (prompt | model | StrOutputParser())\n",
    "res1 = rag_chain.invoke({\"context\": base_docs, \"question\": query})\n",
    "res2 = rag_chain.invoke({\"context\": chain_extractor_docs, \"question\": query})\n",
    "res3 = rag_chain.invoke({\"context\": chain_filter_docs, \"question\": query})\n",
    "res4 = rag_chain.invoke({\"context\": embed_filter_docs, \"question\": query})\n",
    "res5 = rag_chain.invoke({\"context\": rerank_docs, \"question\": query})\n",
    "res6 = rag_chain.invoke({\"context\": combine_docs, \"question\": query})"
   ]
  },
  {
   "cell_type": "code",
   "execution_count": 31,
   "metadata": {},
   "outputs": [
    {
     "name": "stdout",
     "output_type": "stream",
     "text": [
      "\u001b[0m**************************************************\n",
      "Base Model\n",
      "**************************************************\n",
      " To win in Root, you need to reach 30 victory points immediately after playing. This means every time you remove an enemy's building or token, you get one victory point. You can also craft items to increase your victory points.\n",
      "\u001b[0m**************************************************\n",
      "Chain Extractor\n",
      "**************************************************\n",
      " The variant setup allows players to choose whether to replace their standard deck with the Exiles and Partisans deck or to use bots according to the Law of Rootbotics.\n",
      "\u001b[0m**************************************************\n",
      "Chain Filter\n",
      "**************************************************\n",
      " To win in root (rootless), it's crucial to understand and utilize the features provided by your operating system. This includes:\n",
      "\n",
      "1. **Advanced System Administration**: Learn how to manage systems using commands like `sudo`, `chroot`, and `mount` for managing partitions and files.\n",
      "2. **Security Measures**: Familiarize yourself with security settings such as root access and rootkit protection.\n",
      "3. **Backup and Restore**: Know how to create backups and restore data securely if needed.\n",
      "4. **System Monitoring**: Use tools like `top`, `htop`, or `ps aux` to monitor system performance and identify potential issues.\n",
      "5. **Update and Patch Management**: Keep your system and software updated regularly to address vulnerabilities.\n",
      "6. **File Systems**: Understand file systems and their differences between FAT, NTFS, etc., to ensure compatibility and maintainability.\n",
      "7. **Disk Usage**: Monitor disk usage on both local and remote servers to prevent overloading.\n",
      "8. **Network Configuration**: Ensure network connections are secure and efficient.\n",
      "9. **User Privileges**: Manage user privileges effectively to avoid unauthorized access.\n",
      "10. **Error Handling**: Learn how to handle errors gracefully and recover from them efficiently.\n",
      "\n",
      "By mastering these skills, you can navigate root without encountering common pitfalls and ensure a smooth transition into rootless operations.\n",
      "\u001b[0m**************************************************\n",
      "Embedding Filter\n",
      "**************************************************\n",
      " To win in root, focus on understanding the game mechanics and strategies thoroughly before engaging with opponents. Practice your skills, stay focused, and adapt to different situations. Engaging with experienced players can also provide valuable insights and tips. Additionally, staying organized and maintaining a healthy gaming routine can help maintain focus during matches. Remember, practice makes perfect; consistently improving is key to success in root games.\n",
      "\u001b[0m**************************************************\n",
      "Rerank Docs\n",
      "**************************************************\n",
      " To win in Root, you can:\n",
      "\n",
      "1. **Sway** one minister:\n",
      "   - Choose a minister card in your hand.\n",
      "   - Sway it, which allows you to gain victory points based on its faction.\n",
      "\n",
      "2. **Take the Action of Any Swayed Noble or Squire**:\n",
      "   - Choose a minister card in your hand.\n",
      "   - Take the action of any swayed noble or squire.\n",
      "\n",
      "3. **Score Victory Points**:\n",
      "   - After taking actions, accumulate victory points according to the rules provided.\n",
      "\n",
      "Remember, the key is to strategically choose actions that maximize your victory points while considering the reach of your faction's effect.\n",
      "\u001b[0m**************************************************\n",
      "Pipeline Filter\n",
      "**************************************************\n",
      " Winning in root involves mastering the techniques and strategies specific to root access. It requires understanding how to exploit vulnerabilities and weaknesses within your system's security measures. Here’s a step-by-step guide:\n",
      "\n",
      "1. **Understand the Root User**: Know what the root user is capable of doing. This includes setting passwords, changing system settings, installing software, and more.\n",
      "\n",
      "2. **Use Advanced Tools**: Utilize advanced tools like `sudo`, `apt-get`, or `yum` to bypass password-based authentication if necessary.\n",
      "\n",
      "3. **Adapt Security Measures**: Be aware of common root exploits such as exploiting shell injection attacks, exploiting file inclusion vulnerabilities, and exploiting buffer overflow flaws.\n",
      "\n",
      "4. **Educate Yourself on Security Practices**: Stay updated with the latest security practices and best practices for securing your systems against root access.\n",
      "\n",
      "5. **Secure Your System**: Implement strong encryption, secure configurations, and regular backups to protect your data from potential root access.\n",
      "\n",
      "6. **Be Mindful of Permissions**: Always use appropriate permissions when accessing files and directories. Incorrect permissions can lead to unauthorized access.\n",
      "\n",
      "7. **Stay Informed**: Keep yourself informed about new security threats and vulnerabilities. Regularly update your system and applications.\n",
      "\n",
      "8. **Learn from Mistakes**: If you do get caught in a situation where you have root access, learn from it. Use this experience to improve your skills and avoid similar mistakes in the future.\n",
      "\n",
      "By following these steps, you can enhance your chances of successfully gaining root access and managing your system effectively.\n"
     ]
    }
   ],
   "source": [
    "print(f'\\x1b[0m{\"*\"*50}\\nBase Model\\n{\"*\"*50}\\n', res1)\n",
    "\n",
    "print(f'\\x1b[0m{\"*\"*50}\\nChain Extractor\\n{\"*\"*50}\\n', res2)\n",
    "\n",
    "print(f'\\x1b[0m{\"*\"*50}\\nChain Filter\\n{\"*\"*50}\\n', res3)\n",
    "\n",
    "print(f'\\x1b[0m{\"*\"*50}\\nEmbedding Filter\\n{\"*\"*50}\\n', res4)\n",
    "\n",
    "print(f'\\x1b[0m{\"*\"*50}\\nRerank Docs\\n{\"*\"*50}\\n', res5)\n",
    "\n",
    "print(f'\\x1b[0m{\"*\"*50}\\nPipeline Filter\\n{\"*\"*50}\\n', res6)"
   ]
  }
 ],
 "metadata": {
  "kernelspec": {
   "display_name": ".venv",
   "language": "python",
   "name": "python3"
  },
  "language_info": {
   "codemirror_mode": {
    "name": "ipython",
    "version": 3
   },
   "file_extension": ".py",
   "mimetype": "text/x-python",
   "name": "python",
   "nbconvert_exporter": "python",
   "pygments_lexer": "ipython3",
   "version": "3.11.5"
  }
 },
 "nbformat": 4,
 "nbformat_minor": 2
}
