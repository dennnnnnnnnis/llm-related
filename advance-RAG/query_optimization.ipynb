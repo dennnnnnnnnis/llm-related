{
 "cells": [
  {
   "cell_type": "code",
   "execution_count": 63,
   "metadata": {},
   "outputs": [],
   "source": [
    "import torch\n",
    "import os\n",
    "from pathlib import Path\n",
    "import numpy as np\n",
    "from yt_dlp import YoutubeDL\n",
    "import glob\n",
    "from operator import itemgetter\n",
    "from typing import List\n",
    "\n",
    "from langchain.document_loaders import PyPDFLoader, DirectoryLoader, PyMuPDFLoader\n",
    "from langchain.text_splitter import RecursiveCharacterTextSplitter\n",
    "from langchain_huggingface import HuggingFaceEmbeddings\n",
    "from langchain_community.vectorstores import FAISS\n",
    "from langchain_core.output_parsers import BaseOutputParser\n",
    "from langchain_core.prompts import PromptTemplate\n",
    "from langchain_core.output_parsers import StrOutputParser\n",
    "from langchain.retrievers.multi_query import MultiQueryRetriever\n",
    "\n",
    "from tqdm.notebook import tqdm\n",
    "import os"
   ]
  },
  {
   "cell_type": "code",
   "execution_count": 2,
   "metadata": {},
   "outputs": [],
   "source": [
    "os.environ['SENTENCE_TRANSFORMERS_HOME'] = '/Users/wangzeyu/Desktop/Github projects/legalai-chatbot/huggingface-models'"
   ]
  },
  {
   "cell_type": "code",
   "execution_count": 3,
   "metadata": {},
   "outputs": [],
   "source": [
    "# loader = PyPDFLoader(\"/Users/wangzeyu/Desktop/Github projects/legalai-chatbot/data/meditations.pdf\")\n",
    "# documents = loader.load()"
   ]
  },
  {
   "cell_type": "markdown",
   "metadata": {},
   "source": [
    "### Load and Split"
   ]
  },
  {
   "cell_type": "code",
   "execution_count": 3,
   "metadata": {},
   "outputs": [],
   "source": [
    "# way faster than PyPDFLoader\n",
    "loader = PyMuPDFLoader(\"/Users/wangzeyu/Desktop/Github projects/legalai-chatbot/data/meditations.pdf\")\n",
    "documents = loader.load()"
   ]
  },
  {
   "cell_type": "code",
   "execution_count": 4,
   "metadata": {},
   "outputs": [],
   "source": [
    "text_splitter = RecursiveCharacterTextSplitter(\n",
    "    # separator=\"\\n\", # where to split the text\n",
    "    chunk_size=1000, # how big each chunk should be \n",
    "    chunk_overlap=100,\n",
    "    length_function=len,\n",
    "    # add_start_index=True\n",
    ")\n",
    "docs = text_splitter.split_documents(documents)"
   ]
  },
  {
   "cell_type": "code",
   "execution_count": 5,
   "metadata": {},
   "outputs": [
    {
     "name": "stdout",
     "output_type": "stream",
     "text": [
      "Chunks:  550 Pages:  128\n"
     ]
    }
   ],
   "source": [
    "print('Chunks: ', len(docs), 'Pages: ', len(documents))"
   ]
  },
  {
   "cell_type": "markdown",
   "metadata": {},
   "source": [
    "### Embedding"
   ]
  },
  {
   "cell_type": "code",
   "execution_count": 6,
   "metadata": {},
   "outputs": [],
   "source": [
    "embeddings = HuggingFaceEmbeddings(\n",
    "    model_name='BAAI/bge-small-en-v1.5', \n",
    "    model_kwargs={'device': 'cpu'},\n",
    "    show_progress=True\n",
    ")"
   ]
  },
  {
   "cell_type": "code",
   "execution_count": 7,
   "metadata": {},
   "outputs": [],
   "source": [
    "db = FAISS.load_local('/Users/wangzeyu/Desktop/Github projects/legalai-chatbot/rag-optimizations/faiss_pdf', embeddings, allow_dangerous_deserialization=True)"
   ]
  },
  {
   "cell_type": "code",
   "execution_count": 9,
   "metadata": {},
   "outputs": [
    {
     "data": {
      "application/vnd.jupyter.widget-view+json": {
       "model_id": "71c0dea263dc4f2088de96bce8651269",
       "version_major": 2,
       "version_minor": 0
      },
      "text/plain": [
       "Batches:   0%|          | 0/18 [00:00<?, ?it/s]"
      ]
     },
     "metadata": {},
     "output_type": "display_data"
    }
   ],
   "source": [
    "# db = FAISS.from_documents(docs, embeddings)"
   ]
  },
  {
   "cell_type": "code",
   "execution_count": 10,
   "metadata": {},
   "outputs": [],
   "source": [
    "# db.save_local('/Users/wangzeyu/Desktop/Github projects/legalai-chatbot/rag-optimizations/faiss_pdf')"
   ]
  },
  {
   "cell_type": "code",
   "execution_count": 8,
   "metadata": {},
   "outputs": [
    {
     "data": {
      "application/vnd.jupyter.widget-view+json": {
       "model_id": "eb05105a55f44958a527de24f988cfe9",
       "version_major": 2,
       "version_minor": 0
      },
      "text/plain": [
       "Batches:   0%|          | 0/1 [00:00<?, ?it/s]"
      ]
     },
     "metadata": {},
     "output_type": "display_data"
    },
    {
     "data": {
      "text/plain": [
       "[Document(id='87e8461d-306f-4ceb-8512-5ed5a385561e', metadata={'producer': 'macOS Version 14.2.1 (Build 23C71) Quartz PDFContext', 'creator': 'Safari', 'creationdate': \"D:20240110035838Z00'00'\", 'source': '/Users/wangzeyu/Desktop/Github projects/legalai-chatbot/data/meditations.pdf', 'file_path': '/Users/wangzeyu/Desktop/Github projects/legalai-chatbot/data/meditations.pdf', 'total_pages': 128, 'format': 'PDF 1.4', 'title': 'https:/www.maximusveritas.com/wp-content/uploads/2017/09/Marcus-Aurelius-Meditations', 'author': 'Arshad Kazi', 'subject': '', 'keywords': '', 'moddate': \"D:20240110035838Z00'00'\", 'trapped': '', 'modDate': \"D:20240110035838Z00'00'\", 'creationDate': \"D:20240110035838Z00'00'\", 'page': 107}, page_content='XXIV. What doest thou desire? To live long. What? To enjoy the operations of a sensi-\\ntive soul; or of the appetitive faculty? or wouldst thou grow, and then decrease \\nagain? Wouldst thou long be able to talk, to think and reason with thyself? Which of'),\n",
       " Document(id='43a9f86b-ab34-4b01-b41d-aa6226f104e1', metadata={'producer': 'macOS Version 14.2.1 (Build 23C71) Quartz PDFContext', 'creator': 'Safari', 'creationdate': \"D:20240110035838Z00'00'\", 'source': '/Users/wangzeyu/Desktop/Github projects/legalai-chatbot/data/meditations.pdf', 'file_path': '/Users/wangzeyu/Desktop/Github projects/legalai-chatbot/data/meditations.pdf', 'total_pages': 128, 'format': 'PDF 1.4', 'title': 'https:/www.maximusveritas.com/wp-content/uploads/2017/09/Marcus-Aurelius-Meditations', 'author': 'Arshad Kazi', 'subject': '', 'keywords': '', 'moddate': \"D:20240110035838Z00'00'\", 'trapped': '', 'modDate': \"D:20240110035838Z00'00'\", 'creationDate': \"D:20240110035838Z00'00'\", 'page': 69}, page_content='appetites, to discern rightly all plausible fancies and imaginations, to contemplate \\nthe nature of the universe; both it, and things that are done in it. In which kind of \\ncontemplation three several relations are to be observed The first, to the apparent \\nsecondary cause. The Second to the first original cause, God, from whom originally \\nproceeds whatsoever doth happen in the world. The third and last, to them that we \\nlive and converse with: what use may be made of it, to their use and benefit. \\nXXVI. If pain be an evil, either it is in regard of the body; (and that cannot be, be-\\ncause the body of itself is altogether insensible): or in regard of the soul But it is in \\nthe power of the soul, to preserve her own peace and tranquillity, and not to suppose \\nthat pain is evil. For all judgment and deliberation; all prosecution, or aversation is \\nfrom within, whither the sense of evil (except it be let in by opinion) cannot penetrate.'),\n",
       " Document(id='086f5366-713a-4692-9fc4-fe51ff26220f', metadata={'producer': 'macOS Version 14.2.1 (Build 23C71) Quartz PDFContext', 'creator': 'Safari', 'creationdate': \"D:20240110035838Z00'00'\", 'source': '/Users/wangzeyu/Desktop/Github projects/legalai-chatbot/data/meditations.pdf', 'file_path': '/Users/wangzeyu/Desktop/Github projects/legalai-chatbot/data/meditations.pdf', 'total_pages': 128, 'format': 'PDF 1.4', 'title': 'https:/www.maximusveritas.com/wp-content/uploads/2017/09/Marcus-Aurelius-Meditations', 'author': 'Arshad Kazi', 'subject': '', 'keywords': '', 'moddate': \"D:20240110035838Z00'00'\", 'trapped': '', 'modDate': \"D:20240110035838Z00'00'\", 'creationDate': \"D:20240110035838Z00'00'\", 'page': 18}, page_content='behold thy life is almost at an end, whiles affording thyself no respect, thou dost \\nmake thy happiness to consist in the souls, and conceits of other men. \\nIV Why should any of these things that happen externally, so much distract thee? \\nGive thyself leisure to learn some good thing, and cease roving and wandering to and \\nfro. Thou must also take heed of another kind of wandering, for they are idle in their \\nactions, who toil and labour in this life, and have no certain scope to which to direct \\nall their motions, and desires. \\nV. For not observing the state of another man’s soul, scarce was ever any man \\nknown to be unhappy. tell whosoever they be that intend not, and guide not by rea-\\nson and discretion the motions of their own souls, they must of necessity be unhap-\\npy. \\nVI. These things thou must always have in mind: What is the nature of the universe, \\nand what is mine — in particular: This unto that what relation it hath: what kind of'),\n",
       " Document(id='4f214cb6-7016-48e1-b811-0e3fef4f1773', metadata={'producer': 'macOS Version 14.2.1 (Build 23C71) Quartz PDFContext', 'creator': 'Safari', 'creationdate': \"D:20240110035838Z00'00'\", 'source': '/Users/wangzeyu/Desktop/Github projects/legalai-chatbot/data/meditations.pdf', 'file_path': '/Users/wangzeyu/Desktop/Github projects/legalai-chatbot/data/meditations.pdf', 'total_pages': 128, 'format': 'PDF 1.4', 'title': 'https:/www.maximusveritas.com/wp-content/uploads/2017/09/Marcus-Aurelius-Meditations', 'author': 'Arshad Kazi', 'subject': '', 'keywords': '', 'moddate': \"D:20240110035838Z00'00'\", 'trapped': '', 'modDate': \"D:20240110035838Z00'00'\", 'creationDate': \"D:20240110035838Z00'00'\", 'page': 60}, page_content='or material think of the last hour. That which thy neighbour bath committed, where \\nthe guilt of it lieth, there let it rest. Examine in order whatsoever is spoken. Let thy \\nmind penetrate both into the effects, and into the causes. Rejoice thyself with true \\nsimplicity, and modesty; and that all middle things between virtue and vice are indif-\\nferent unto thee. Finally, love mankind; obey God. \\nXXII. All things (saith he) are by certain order and appointment. And what if the ele-\\nments only. . . . It will suffice to remember, that all things in general are by certain \\norder and appointment: or if it be but few. . . . \\n28 And as concerning death, that ei-\\nther dispersion, or the atoms, or annihilation, or extinction, or translation will ensue. \\nAnd as concerning pain, that that which is intolerable is soon ended by death; and \\nthat which holds long must needs be tolerable; and that the mind in the meantime'),\n",
       " Document(id='9acb6f9b-af09-49b6-994a-21a482941711', metadata={'producer': 'macOS Version 14.2.1 (Build 23C71) Quartz PDFContext', 'creator': 'Safari', 'creationdate': \"D:20240110035838Z00'00'\", 'source': '/Users/wangzeyu/Desktop/Github projects/legalai-chatbot/data/meditations.pdf', 'file_path': '/Users/wangzeyu/Desktop/Github projects/legalai-chatbot/data/meditations.pdf', 'total_pages': 128, 'format': 'PDF 1.4', 'title': 'https:/www.maximusveritas.com/wp-content/uploads/2017/09/Marcus-Aurelius-Meditations', 'author': 'Arshad Kazi', 'subject': '', 'keywords': '', 'moddate': \"D:20240110035838Z00'00'\", 'trapped': '', 'modDate': \"D:20240110035838Z00'00'\", 'creationDate': \"D:20240110035838Z00'00'\", 'page': 88}, page_content='there, which when as a mere naturalist, thou hast barely considered of according to \\ntheir nature, thou doest let pass without any further use? Whereas thou shouldst in \\nall things so join action and contemplation, that thou mightest both at the same time \\nattend all present occasions, to perform everything duly and carefully and yet so in-\\ntend the contemplative part too, that no part of that delight and pleasure, which the \\ncontemplative knowledge of everything according to its true nature doth of itself af-\\nford, might be lost. Or, that the true and contemplative knowledge of everything ac-\\ncording to its own nature, might of itself, (action being subject to many lets and im-\\npediments) afford unto thee sufficient pleasure and happiness. Not apparent indeed, \\nbut not concealed. And when shalt thou attain to the happiness of true simplicity, \\nand unaffected gravity? When shalt thou rejoice in the certain knowledge of every'),\n",
       " Document(id='169b627f-a8e1-4bcb-827f-45f63c4777ee', metadata={'producer': 'macOS Version 14.2.1 (Build 23C71) Quartz PDFContext', 'creator': 'Safari', 'creationdate': \"D:20240110035838Z00'00'\", 'source': '/Users/wangzeyu/Desktop/Github projects/legalai-chatbot/data/meditations.pdf', 'file_path': '/Users/wangzeyu/Desktop/Github projects/legalai-chatbot/data/meditations.pdf', 'total_pages': 128, 'format': 'PDF 1.4', 'title': 'https:/www.maximusveritas.com/wp-content/uploads/2017/09/Marcus-Aurelius-Meditations', 'author': 'Arshad Kazi', 'subject': '', 'keywords': '', 'moddate': \"D:20240110035838Z00'00'\", 'trapped': '', 'modDate': \"D:20240110035838Z00'00'\", 'creationDate': \"D:20240110035838Z00'00'\", 'page': 104}, page_content='that in the creation of the world, they should either unjustly or unreasonably oversee \\nanything. \\nV. Use thyself even unto those things that thou doest at first despair of. For the left \\nhand we see, which for the most part lieth idle because not used; yet doth it hold the \\nbridle with more strength than the right, because it hath been used unto it. \\nVI. Let these be the objects of thy ordinary meditation: to consider, what manner of \\nmen both for soul and body we ought to be, whensoever death shall surprise us: the \\nshortness of this our mortal life: the immense vastness of the time that hath been \\nbefore, and will he after us: the frailty of every worldly material object: all these \\nthings to consider, and behold clearly in themselves, all disguisement of external \\noutside being removed and taken away. Again, to consider the efficient causes of all \\nthings: the proper ends and references of all actions: what pain is in itself; what'),\n",
       " Document(id='fb8ee23c-0c47-414b-87a8-60e00de0f593', metadata={'producer': 'macOS Version 14.2.1 (Build 23C71) Quartz PDFContext', 'creator': 'Safari', 'creationdate': \"D:20240110035838Z00'00'\", 'source': '/Users/wangzeyu/Desktop/Github projects/legalai-chatbot/data/meditations.pdf', 'file_path': '/Users/wangzeyu/Desktop/Github projects/legalai-chatbot/data/meditations.pdf', 'total_pages': 128, 'format': 'PDF 1.4', 'title': 'https:/www.maximusveritas.com/wp-content/uploads/2017/09/Marcus-Aurelius-Meditations', 'author': 'Arshad Kazi', 'subject': '', 'keywords': '', 'moddate': \"D:20240110035838Z00'00'\", 'trapped': '', 'modDate': \"D:20240110035838Z00'00'\", 'creationDate': \"D:20240110035838Z00'00'\", 'page': 40}, page_content=\"MEDITATIONS OF MARCUS AURELIUS \\nFIFTH BOOK \\nMarcus Aurelius' Meditations - tr. Casaubon v. 8.16, uploaded to www.philaletheians.co.uk, 14 July 2013 \\nPage 41 of 128 \\nat all to obey reason but of ease and comfort. And remember that philosophy re-\\nquireth nothing of thee, but what thy nature requireth, and wouldest thou thyself \\ndesire anything that is not according to nature? for which of these sayest thou; that \\nwhich is according to nature or against it, is of itself more kind and pleasing? Is it \\nnot for that respect especially, that pleasure itself is to so many men’s hurt and over-\\nthrow, most prevalent, because esteemed commonly most kind, and natural? But \\nconsider well whether magnanimity rather, and true liberty, and true simplicity, and \\nequanimity, and holiness; whether these be not most kind and natural? And pruden-\\ncy itself, what more kind and amiable than it, when thou shalt truly consider with\"),\n",
       " Document(id='b2666133-54c3-4ddf-8433-675cb7ddc6c2', metadata={'producer': 'macOS Version 14.2.1 (Build 23C71) Quartz PDFContext', 'creator': 'Safari', 'creationdate': \"D:20240110035838Z00'00'\", 'source': '/Users/wangzeyu/Desktop/Github projects/legalai-chatbot/data/meditations.pdf', 'file_path': '/Users/wangzeyu/Desktop/Github projects/legalai-chatbot/data/meditations.pdf', 'total_pages': 128, 'format': 'PDF 1.4', 'title': 'https:/www.maximusveritas.com/wp-content/uploads/2017/09/Marcus-Aurelius-Meditations', 'author': 'Arshad Kazi', 'subject': '', 'keywords': '', 'moddate': \"D:20240110035838Z00'00'\", 'trapped': '', 'modDate': \"D:20240110035838Z00'00'\", 'creationDate': \"D:20240110035838Z00'00'\", 'page': 17}, page_content=\"MEDITATIONS OF MARCUS AURELIUS \\nFIRST BOOK \\nMarcus Aurelius' Meditations - tr. Casaubon v. 8.16, uploaded to www.philaletheians.co.uk, 14 July 2013 \\nPage 18 of 128 \\nteeth: for such therefore to be in opposition, is against nature; and what is it to chafe \\nat, and to be averse from, but to be in opposition? \\nXVI. Whatsoever I am, is either flesh, or life, or that which we commonly call the mis-\\ntress and overruling part of man; reason. Away with thy books, suffer not thy mind \\nany more to be distracted, and carried to and fro; for it will not be; but as even now \\nready to die, think little of thy flesh: blood, bones, and a skin; a pretty piece of knit \\nand twisted work, consisting of nerves, veins and arteries; think no more of it, than \\nso. And as for thy life, consider what it is; a wind; not one constant wind neither, but \\nevery moment of an hour let out, and sucked in again. The third, is thy ruling part;\"),\n",
       " Document(id='32330e18-d639-459e-b789-bcda19d4c449', metadata={'producer': 'macOS Version 14.2.1 (Build 23C71) Quartz PDFContext', 'creator': 'Safari', 'creationdate': \"D:20240110035838Z00'00'\", 'source': '/Users/wangzeyu/Desktop/Github projects/legalai-chatbot/data/meditations.pdf', 'file_path': '/Users/wangzeyu/Desktop/Github projects/legalai-chatbot/data/meditations.pdf', 'total_pages': 128, 'format': 'PDF 1.4', 'title': 'https:/www.maximusveritas.com/wp-content/uploads/2017/09/Marcus-Aurelius-Meditations', 'author': 'Arshad Kazi', 'subject': '', 'keywords': '', 'moddate': \"D:20240110035838Z00'00'\", 'trapped': '', 'modDate': \"D:20240110035838Z00'00'\", 'creationDate': \"D:20240110035838Z00'00'\", 'page': 68}, page_content=\"MEDITATIONS OF MARCUS AURELIUS \\nEIGHTH BOOK \\nMarcus Aurelius' Meditations - tr. Casaubon v. 8.16, uploaded to www.philaletheians.co.uk, 14 July 2013 \\nPage 69 of 128 \\nXII. As every fancy and imagination presents itself unto thee, consider (if it be possi-\\nble) the true nature, and the proper qualities of it, and reason with thyself about it. \\nXIII. At thy first encounter with any one, say presently to thyself: This man, what are \\nhis opinions concerning that which is good or evil? as concerning pain, pleasure, and \\nthe causes of both; concerning honour, and dishonour, concerning life and death? \\nthus and thus. Now if it be no wonder that a man should have such and such opin-\\nions, how can it be a wonder that he should do such and such things? I will remem-\\nber then, that he cannot but do as he doth, holding those opinions that he doth. Re-\\nmember, that as it is a shame for any man to wonder that a fig tree should bear figs,\"),\n",
       " Document(id='d119b463-9b18-4443-ba51-8e404f44e5cd', metadata={'producer': 'macOS Version 14.2.1 (Build 23C71) Quartz PDFContext', 'creator': 'Safari', 'creationdate': \"D:20240110035838Z00'00'\", 'source': '/Users/wangzeyu/Desktop/Github projects/legalai-chatbot/data/meditations.pdf', 'file_path': '/Users/wangzeyu/Desktop/Github projects/legalai-chatbot/data/meditations.pdf', 'total_pages': 128, 'format': 'PDF 1.4', 'title': 'https:/www.maximusveritas.com/wp-content/uploads/2017/09/Marcus-Aurelius-Meditations', 'author': 'Arshad Kazi', 'subject': '', 'keywords': '', 'moddate': \"D:20240110035838Z00'00'\", 'trapped': '', 'modDate': \"D:20240110035838Z00'00'\", 'creationDate': \"D:20240110035838Z00'00'\", 'page': 89}, page_content=\"MEDITATIONS OF MARCUS AURELIUS \\nTENTH BOOK \\nMarcus Aurelius' Meditations - tr. Casaubon v. 8.16, uploaded to www.philaletheians.co.uk, 14 July 2013 \\nPage 90 of 128 \\nXIII. What use is there of suspicion at all? or, why should thoughts of mistrust, and \\nsuspicion concerning that which is future, trouble thy mind at all? What now is to be \\ndone, if thou mayest search and inquiry into that, what needs thou care for more? \\nAnd if thou art well able to perceive it alone, let no man divert thee from it. But if \\nalone thou doest not so well perceive it, suspend thine action, and take advice from \\nthe best. And if there be anything else that doth hinder thee, go on with prudence \\nand discretion, according to the present occasion and opportunity, still proposing \\nthat unto thyself, which thou doest conceive most right and just. For to hit that \\naright, and to speed in the prosecution of it, must needs be happiness, since it is\")]"
      ]
     },
     "execution_count": 8,
     "metadata": {},
     "output_type": "execute_result"
    }
   ],
   "source": [
    "vector_res = db.similarity_search(\"What is meditation?\", k=10)\n",
    "vector_res"
   ]
  },
  {
   "cell_type": "markdown",
   "metadata": {},
   "source": [
    "### LLM Baseline Response"
   ]
  },
  {
   "cell_type": "code",
   "execution_count": 14,
   "metadata": {},
   "outputs": [],
   "source": [
    "from langchain_openai import ChatOpenAI\n",
    "model = ChatOpenAI(model='/Users/wangzeyu/Desktop/Github projects/legalai-chatbot/huggingface-models/models--Qwen--Qwen2.5-0.5B-Instruct/snapshots/7ae557604adf67be50417f59c2c2f167def9a775', base_url='http://0.0.0.0:8000/v1', api_key='n')"
   ]
  },
  {
   "cell_type": "code",
   "execution_count": 9,
   "metadata": {},
   "outputs": [],
   "source": [
    "prompt_template = \"\"\"Use the following pieces of context to answer the question at the end.\n",
    "If you don't know the answer, just say that you don't know, don't try to make up an answer.\n",
    "Keep the answer as concise as possible.\n",
    "\n",
    "Context: {context}\n",
    "\n",
    "Question: {question}\n",
    "\n",
    "Helpful Answer:\"\"\""
   ]
  },
  {
   "cell_type": "code",
   "execution_count": 16,
   "metadata": {},
   "outputs": [
    {
     "name": "stdout",
     "output_type": "stream",
     "text": [
      "Meditation refers to the practice of focusing one's mind on a single object or idea, often through mindfulness exercises or philosophical reflection. It involves cultivating a sense of inner calm and concentration, allowing the mind to become aware of its thoughts and emotions without judgment. Meditation helps individuals develop greater awareness, reduce stress, and enhance overall mental clarity and self-awareness.\n"
     ]
    }
   ],
   "source": [
    "rag_res = model.invoke(\n",
    "    prompt_template.format(\n",
    "        context=''.join([i.page_content for i in vector_res]), \n",
    "        question=\"What is meditation?\"\n",
    "    )\n",
    ")\n",
    "print(rag_res.content)"
   ]
  },
  {
   "cell_type": "markdown",
   "metadata": {},
   "source": [
    "### Query Rewrite"
   ]
  },
  {
   "cell_type": "code",
   "execution_count": 11,
   "metadata": {},
   "outputs": [],
   "source": [
    "# Reference: https://arxiv.org/abs/2305.14283\n",
    "# Remove noise in the original user query using LLM, so LLM can focus on \n",
    "# main topic of the query and generate the best answers"
   ]
  },
  {
   "cell_type": "code",
   "execution_count": 18,
   "metadata": {},
   "outputs": [
    {
     "name": "stdout",
     "output_type": "stream",
     "text": [
      "What is meditation?\n"
     ]
    }
   ],
   "source": [
    "query = \"What is meditation? Response with example.\"\n",
    "\n",
    "distracted_query =  query + \" Hahaha!\"\n",
    "\n",
    "rewrite_template = \"\"\"You are an LLM's assistant, your job is to identify the main theme of a query and remove any noise that could disturb the LLM's answer.\n",
    "Given the original question, rewrite it so that LLM can generate the best possible answer.\n",
    "\n",
    "original question: {original_question}\n",
    "\n",
    "Rewritten question:\n",
    "\"\"\"\n",
    "\n",
    "rewrite_query = model.invoke(\n",
    "    rewrite_template.format(\n",
    "        original_question=distracted_query\n",
    "    )\n",
    ")\n",
    "print(rewrite_query.content)"
   ]
  },
  {
   "cell_type": "markdown",
   "metadata": {},
   "source": [
    "#### Impact on retrieval"
   ]
  },
  {
   "cell_type": "code",
   "execution_count": 27,
   "metadata": {},
   "outputs": [],
   "source": [
    "def format_retrieval(docs):\n",
    "    for doc in docs:  # or whatever your list variable is called\n",
    "        page = doc.metadata.get('page', 'N/A')\n",
    "        print(f\"Page: {page}\")\n",
    "        print(\"Content:\")\n",
    "        print(doc.page_content)\n",
    "        print(\"=\"*40)  # separator for readability"
   ]
  },
  {
   "cell_type": "code",
   "execution_count": 29,
   "metadata": {},
   "outputs": [
    {
     "data": {
      "application/vnd.jupyter.widget-view+json": {
       "model_id": "b9383350776444f98539e84cb2afe37f",
       "version_major": 2,
       "version_minor": 0
      },
      "text/plain": [
       "Batches:   0%|          | 0/1 [00:00<?, ?it/s]"
      ]
     },
     "metadata": {},
     "output_type": "display_data"
    },
    {
     "data": {
      "application/vnd.jupyter.widget-view+json": {
       "model_id": "a27bcbcf0bde4ac2be9d770d2cd9c409",
       "version_major": 2,
       "version_minor": 0
      },
      "text/plain": [
       "Batches:   0%|          | 0/1 [00:00<?, ?it/s]"
      ]
     },
     "metadata": {},
     "output_type": "display_data"
    },
    {
     "data": {
      "application/vnd.jupyter.widget-view+json": {
       "model_id": "2faef14907154749a7ca0f489718d999",
       "version_major": 2,
       "version_minor": 0
      },
      "text/plain": [
       "Batches:   0%|          | 0/1 [00:00<?, ?it/s]"
      ]
     },
     "metadata": {},
     "output_type": "display_data"
    }
   ],
   "source": [
    "original_res = db.similarity_search(query, k=5)\n",
    "distracted_res = db.similarity_search(distracted_query, k=5)\n",
    "rewrite_res = db.similarity_search(rewrite_query.content, k=5)"
   ]
  },
  {
   "cell_type": "code",
   "execution_count": 30,
   "metadata": {},
   "outputs": [
    {
     "name": "stdout",
     "output_type": "stream",
     "text": [
      "Page: 69\n",
      "Content:\n",
      "appetites, to discern rightly all plausible fancies and imaginations, to contemplate \n",
      "the nature of the universe; both it, and things that are done in it. In which kind of \n",
      "contemplation three several relations are to be observed The first, to the apparent \n",
      "secondary cause. The Second to the first original cause, God, from whom originally \n",
      "proceeds whatsoever doth happen in the world. The third and last, to them that we \n",
      "live and converse with: what use may be made of it, to their use and benefit. \n",
      "XXVI. If pain be an evil, either it is in regard of the body; (and that cannot be, be-\n",
      "cause the body of itself is altogether insensible): or in regard of the soul But it is in \n",
      "the power of the soul, to preserve her own peace and tranquillity, and not to suppose \n",
      "that pain is evil. For all judgment and deliberation; all prosecution, or aversation is \n",
      "from within, whither the sense of evil (except it be let in by opinion) cannot penetrate.\n",
      "========================================\n",
      "Page: 88\n",
      "Content:\n",
      "there, which when as a mere naturalist, thou hast barely considered of according to \n",
      "their nature, thou doest let pass without any further use? Whereas thou shouldst in \n",
      "all things so join action and contemplation, that thou mightest both at the same time \n",
      "attend all present occasions, to perform everything duly and carefully and yet so in-\n",
      "tend the contemplative part too, that no part of that delight and pleasure, which the \n",
      "contemplative knowledge of everything according to its true nature doth of itself af-\n",
      "ford, might be lost. Or, that the true and contemplative knowledge of everything ac-\n",
      "cording to its own nature, might of itself, (action being subject to many lets and im-\n",
      "pediments) afford unto thee sufficient pleasure and happiness. Not apparent indeed, \n",
      "but not concealed. And when shalt thou attain to the happiness of true simplicity, \n",
      "and unaffected gravity? When shalt thou rejoice in the certain knowledge of every\n",
      "========================================\n",
      "Page: 107\n",
      "Content:\n",
      "XXIV. What doest thou desire? To live long. What? To enjoy the operations of a sensi-\n",
      "tive soul; or of the appetitive faculty? or wouldst thou grow, and then decrease \n",
      "again? Wouldst thou long be able to talk, to think and reason with thyself? Which of\n",
      "========================================\n",
      "Page: 18\n",
      "Content:\n",
      "behold thy life is almost at an end, whiles affording thyself no respect, thou dost \n",
      "make thy happiness to consist in the souls, and conceits of other men. \n",
      "IV Why should any of these things that happen externally, so much distract thee? \n",
      "Give thyself leisure to learn some good thing, and cease roving and wandering to and \n",
      "fro. Thou must also take heed of another kind of wandering, for they are idle in their \n",
      "actions, who toil and labour in this life, and have no certain scope to which to direct \n",
      "all their motions, and desires. \n",
      "V. For not observing the state of another man’s soul, scarce was ever any man \n",
      "known to be unhappy. tell whosoever they be that intend not, and guide not by rea-\n",
      "son and discretion the motions of their own souls, they must of necessity be unhap-\n",
      "py. \n",
      "VI. These things thou must always have in mind: What is the nature of the universe, \n",
      "and what is mine — in particular: This unto that what relation it hath: what kind of\n",
      "========================================\n",
      "Page: 68\n",
      "Content:\n",
      "MEDITATIONS OF MARCUS AURELIUS \n",
      "EIGHTH BOOK \n",
      "Marcus Aurelius' Meditations - tr. Casaubon v. 8.16, uploaded to www.philaletheians.co.uk, 14 July 2013 \n",
      "Page 69 of 128 \n",
      "XII. As every fancy and imagination presents itself unto thee, consider (if it be possi-\n",
      "ble) the true nature, and the proper qualities of it, and reason with thyself about it. \n",
      "XIII. At thy first encounter with any one, say presently to thyself: This man, what are \n",
      "his opinions concerning that which is good or evil? as concerning pain, pleasure, and \n",
      "the causes of both; concerning honour, and dishonour, concerning life and death? \n",
      "thus and thus. Now if it be no wonder that a man should have such and such opin-\n",
      "ions, how can it be a wonder that he should do such and such things? I will remem-\n",
      "ber then, that he cannot but do as he doth, holding those opinions that he doth. Re-\n",
      "member, that as it is a shame for any man to wonder that a fig tree should bear figs,\n",
      "========================================\n"
     ]
    }
   ],
   "source": [
    "format_retrieval(original_res)"
   ]
  },
  {
   "cell_type": "code",
   "execution_count": 31,
   "metadata": {},
   "outputs": [
    {
     "name": "stdout",
     "output_type": "stream",
     "text": [
      "Page: 88\n",
      "Content:\n",
      "there, which when as a mere naturalist, thou hast barely considered of according to \n",
      "their nature, thou doest let pass without any further use? Whereas thou shouldst in \n",
      "all things so join action and contemplation, that thou mightest both at the same time \n",
      "attend all present occasions, to perform everything duly and carefully and yet so in-\n",
      "tend the contemplative part too, that no part of that delight and pleasure, which the \n",
      "contemplative knowledge of everything according to its true nature doth of itself af-\n",
      "ford, might be lost. Or, that the true and contemplative knowledge of everything ac-\n",
      "cording to its own nature, might of itself, (action being subject to many lets and im-\n",
      "pediments) afford unto thee sufficient pleasure and happiness. Not apparent indeed, \n",
      "but not concealed. And when shalt thou attain to the happiness of true simplicity, \n",
      "and unaffected gravity? When shalt thou rejoice in the certain knowledge of every\n",
      "========================================\n",
      "Page: 107\n",
      "Content:\n",
      "XXIV. What doest thou desire? To live long. What? To enjoy the operations of a sensi-\n",
      "tive soul; or of the appetitive faculty? or wouldst thou grow, and then decrease \n",
      "again? Wouldst thou long be able to talk, to think and reason with thyself? Which of\n",
      "========================================\n",
      "Page: 69\n",
      "Content:\n",
      "appetites, to discern rightly all plausible fancies and imaginations, to contemplate \n",
      "the nature of the universe; both it, and things that are done in it. In which kind of \n",
      "contemplation three several relations are to be observed The first, to the apparent \n",
      "secondary cause. The Second to the first original cause, God, from whom originally \n",
      "proceeds whatsoever doth happen in the world. The third and last, to them that we \n",
      "live and converse with: what use may be made of it, to their use and benefit. \n",
      "XXVI. If pain be an evil, either it is in regard of the body; (and that cannot be, be-\n",
      "cause the body of itself is altogether insensible): or in regard of the soul But it is in \n",
      "the power of the soul, to preserve her own peace and tranquillity, and not to suppose \n",
      "that pain is evil. For all judgment and deliberation; all prosecution, or aversation is \n",
      "from within, whither the sense of evil (except it be let in by opinion) cannot penetrate.\n",
      "========================================\n",
      "Page: 18\n",
      "Content:\n",
      "behold thy life is almost at an end, whiles affording thyself no respect, thou dost \n",
      "make thy happiness to consist in the souls, and conceits of other men. \n",
      "IV Why should any of these things that happen externally, so much distract thee? \n",
      "Give thyself leisure to learn some good thing, and cease roving and wandering to and \n",
      "fro. Thou must also take heed of another kind of wandering, for they are idle in their \n",
      "actions, who toil and labour in this life, and have no certain scope to which to direct \n",
      "all their motions, and desires. \n",
      "V. For not observing the state of another man’s soul, scarce was ever any man \n",
      "known to be unhappy. tell whosoever they be that intend not, and guide not by rea-\n",
      "son and discretion the motions of their own souls, they must of necessity be unhap-\n",
      "py. \n",
      "VI. These things thou must always have in mind: What is the nature of the universe, \n",
      "and what is mine — in particular: This unto that what relation it hath: what kind of\n",
      "========================================\n",
      "Page: 50\n",
      "Content:\n",
      "XXVII. If in this kind of life thy body be able to hold out, it is a shame that thy soul \n",
      "should faint first, and give over. take heed, lest of a philosopher thou become a mere \n",
      "Caesar in time, and receive a new tincture from the court. For it may happen if thou \n",
      "dost not take heed. Keep thyself therefore, truly simple, good, sincere, grave, free \n",
      "from all ostentation, a lover of that which is just, religious, kind, tender-hearted, \n",
      "strong and vigorous to undergo anything that becomes thee. Endeavour to continue \n",
      "such, as philosophy (hadst thou wholly and constantly applied thyself unto it) would \n",
      "have made, and secured thee. Worship the Gods, procure the welfare of men, this life \n",
      "is short. Charitable actions, and a holy disposition, is the only fruit of this earthly \n",
      "life. \n",
      "XXVIII. Do all things as becometh the disciple of Antoninus Pius. Remember his \n",
      "resolute constancy in things that were done by him according to reason, his equabil-\n",
      "========================================\n"
     ]
    }
   ],
   "source": [
    "format_retrieval(distracted_res)"
   ]
  },
  {
   "cell_type": "code",
   "execution_count": 32,
   "metadata": {},
   "outputs": [
    {
     "name": "stdout",
     "output_type": "stream",
     "text": [
      "Page: 107\n",
      "Content:\n",
      "XXIV. What doest thou desire? To live long. What? To enjoy the operations of a sensi-\n",
      "tive soul; or of the appetitive faculty? or wouldst thou grow, and then decrease \n",
      "again? Wouldst thou long be able to talk, to think and reason with thyself? Which of\n",
      "========================================\n",
      "Page: 69\n",
      "Content:\n",
      "appetites, to discern rightly all plausible fancies and imaginations, to contemplate \n",
      "the nature of the universe; both it, and things that are done in it. In which kind of \n",
      "contemplation three several relations are to be observed The first, to the apparent \n",
      "secondary cause. The Second to the first original cause, God, from whom originally \n",
      "proceeds whatsoever doth happen in the world. The third and last, to them that we \n",
      "live and converse with: what use may be made of it, to their use and benefit. \n",
      "XXVI. If pain be an evil, either it is in regard of the body; (and that cannot be, be-\n",
      "cause the body of itself is altogether insensible): or in regard of the soul But it is in \n",
      "the power of the soul, to preserve her own peace and tranquillity, and not to suppose \n",
      "that pain is evil. For all judgment and deliberation; all prosecution, or aversation is \n",
      "from within, whither the sense of evil (except it be let in by opinion) cannot penetrate.\n",
      "========================================\n",
      "Page: 18\n",
      "Content:\n",
      "behold thy life is almost at an end, whiles affording thyself no respect, thou dost \n",
      "make thy happiness to consist in the souls, and conceits of other men. \n",
      "IV Why should any of these things that happen externally, so much distract thee? \n",
      "Give thyself leisure to learn some good thing, and cease roving and wandering to and \n",
      "fro. Thou must also take heed of another kind of wandering, for they are idle in their \n",
      "actions, who toil and labour in this life, and have no certain scope to which to direct \n",
      "all their motions, and desires. \n",
      "V. For not observing the state of another man’s soul, scarce was ever any man \n",
      "known to be unhappy. tell whosoever they be that intend not, and guide not by rea-\n",
      "son and discretion the motions of their own souls, they must of necessity be unhap-\n",
      "py. \n",
      "VI. These things thou must always have in mind: What is the nature of the universe, \n",
      "and what is mine — in particular: This unto that what relation it hath: what kind of\n",
      "========================================\n",
      "Page: 60\n",
      "Content:\n",
      "or material think of the last hour. That which thy neighbour bath committed, where \n",
      "the guilt of it lieth, there let it rest. Examine in order whatsoever is spoken. Let thy \n",
      "mind penetrate both into the effects, and into the causes. Rejoice thyself with true \n",
      "simplicity, and modesty; and that all middle things between virtue and vice are indif-\n",
      "ferent unto thee. Finally, love mankind; obey God. \n",
      "XXII. All things (saith he) are by certain order and appointment. And what if the ele-\n",
      "ments only. . . . It will suffice to remember, that all things in general are by certain \n",
      "order and appointment: or if it be but few. . . . \n",
      "28 And as concerning death, that ei-\n",
      "ther dispersion, or the atoms, or annihilation, or extinction, or translation will ensue. \n",
      "And as concerning pain, that that which is intolerable is soon ended by death; and \n",
      "that which holds long must needs be tolerable; and that the mind in the meantime\n",
      "========================================\n",
      "Page: 88\n",
      "Content:\n",
      "there, which when as a mere naturalist, thou hast barely considered of according to \n",
      "their nature, thou doest let pass without any further use? Whereas thou shouldst in \n",
      "all things so join action and contemplation, that thou mightest both at the same time \n",
      "attend all present occasions, to perform everything duly and carefully and yet so in-\n",
      "tend the contemplative part too, that no part of that delight and pleasure, which the \n",
      "contemplative knowledge of everything according to its true nature doth of itself af-\n",
      "ford, might be lost. Or, that the true and contemplative knowledge of everything ac-\n",
      "cording to its own nature, might of itself, (action being subject to many lets and im-\n",
      "pediments) afford unto thee sufficient pleasure and happiness. Not apparent indeed, \n",
      "but not concealed. And when shalt thou attain to the happiness of true simplicity, \n",
      "and unaffected gravity? When shalt thou rejoice in the certain knowledge of every\n",
      "========================================\n"
     ]
    }
   ],
   "source": [
    "format_retrieval(rewrite_res)"
   ]
  },
  {
   "cell_type": "markdown",
   "metadata": {},
   "source": [
    "#### Impact on generation"
   ]
  },
  {
   "cell_type": "code",
   "execution_count": 33,
   "metadata": {},
   "outputs": [
    {
     "name": "stdout",
     "output_type": "stream",
     "text": [
      "Meditation involves focusing one's attention on a particular object, thought, or activity to achieve a state of calmness, concentration, or spiritual clarity. It can involve various techniques such as mindfulness, breathing exercises, visualization, or guided meditation. Examples include sitting quietly in a quiet place, closing your eyes, counting your breaths, or practicing meditation through journaling or writing down thoughts. Meditation helps reduce stress, improve focus, and enhance mental well-being.\n"
     ]
    }
   ],
   "source": [
    "rag_res = model.invoke(\n",
    "    prompt_template.format(\n",
    "        context=''.join([i.page_content for i in distracted_res]), \n",
    "        question=distracted_query\n",
    "    )\n",
    ")\n",
    "print(rag_res.content)"
   ]
  },
  {
   "cell_type": "code",
   "execution_count": 34,
   "metadata": {},
   "outputs": [
    {
     "name": "stdout",
     "output_type": "stream",
     "text": [
      "To live long, enjoy the operation of a sensitive soul, and ponder the nature of the universe. Pain is neither inherently evil nor a distraction from living well. Meditation is about focusing on your thoughts and feelings, and understanding their meaning. Realizing the interconnectedness of all things can help you appreciate life more deeply.\n"
     ]
    }
   ],
   "source": [
    "rag_res = model.invoke(\n",
    "    prompt_template.format(\n",
    "        context=''.join([i.page_content for i in rewrite_res]), \n",
    "        question=rewrite_query\n",
    "    )\n",
    ")\n",
    "print(rag_res.content)"
   ]
  },
  {
   "cell_type": "markdown",
   "metadata": {},
   "source": [
    "### Query Expansion (MultiQueryRetriever)"
   ]
  },
  {
   "cell_type": "markdown",
   "metadata": {},
   "source": [
    "To use LLM as an agent to expand the original query\n",
    "\n",
    "![queryexpansion](img/query-expansion-multiquery.png)\n",
    "\n",
    "Reference: https://python.langchain.com/docs/how_to/MultiQueryRetriever/"
   ]
  },
  {
   "cell_type": "code",
   "execution_count": 38,
   "metadata": {},
   "outputs": [],
   "source": [
    "# Output parser will split the LLM result into a list of queries\n",
    "class LineListOutputParser(BaseOutputParser[List[str]]):\n",
    "    \"\"\"Output parser for a list of lines.\"\"\"\n",
    "\n",
    "    def parse(self, text: str) -> List[str]:\n",
    "        lines = text.strip().split(\"\\n\")\n",
    "        return list(filter(None, lines))  # Remove empty lines\n",
    "\n",
    "output_parser = LineListOutputParser()\n",
    "\n",
    "QUERY_PROMPT = PromptTemplate(\n",
    "    input_variables=[\"question\"],\n",
    "    template=\"\"\"You are an AI language model assistant. Your task is to generate five \n",
    "    different versions of the given user question to retrieve relevant documents from a vector \n",
    "    database. By generating multiple perspectives on the user question, your goal is to help\n",
    "    the user overcome some of the limitations of the distance-based similarity search. \n",
    "    Provide these alternative questions separated by newlines.\n",
    "    Original question: {question}\"\"\",\n",
    ")"
   ]
  },
  {
   "cell_type": "code",
   "execution_count": 44,
   "metadata": {},
   "outputs": [],
   "source": [
    "# Set logging for the queries\n",
    "import logging\n",
    "\n",
    "logging.basicConfig()\n",
    "logging.getLogger(\"langchain.retrievers.multi_query\").setLevel(logging.INFO)"
   ]
  },
  {
   "cell_type": "code",
   "execution_count": 39,
   "metadata": {},
   "outputs": [],
   "source": [
    "# Chain\n",
    "llm_chain = QUERY_PROMPT | model | output_parser"
   ]
  },
  {
   "cell_type": "code",
   "execution_count": 45,
   "metadata": {},
   "outputs": [
    {
     "name": "stderr",
     "output_type": "stream",
     "text": [
      "INFO:langchain.retrievers.multi_query:Generated queries: ['1. What does meditation involve?', '  2. How do you practice meditation?', '  3. Is there any specific time or place for meditation?', '  4. Can you explain what meditation entails in simple terms?', '  5. Is there a particular type of meditation that you prefer?', 'Alternative Questions:', '6. In what ways can meditation be practiced?', '  7. How often should I practice meditation daily?', '  8. Are there certain types of meditation that work better for me?', '  9. Can meditation help improve my concentration and focus?', '  10. Do you have any tips for beginners who want to start practicing meditation?', 'These alternatives aim to explore various aspects of meditation while still maintaining the essence of the original question.']\n"
     ]
    },
    {
     "data": {
      "application/vnd.jupyter.widget-view+json": {
       "model_id": "31abae387b004732bc67e37a21d66094",
       "version_major": 2,
       "version_minor": 0
      },
      "text/plain": [
       "Batches:   0%|          | 0/1 [00:00<?, ?it/s]"
      ]
     },
     "metadata": {},
     "output_type": "display_data"
    },
    {
     "data": {
      "application/vnd.jupyter.widget-view+json": {
       "model_id": "26145798b6024449bddfb413e9c0cd6a",
       "version_major": 2,
       "version_minor": 0
      },
      "text/plain": [
       "Batches:   0%|          | 0/1 [00:00<?, ?it/s]"
      ]
     },
     "metadata": {},
     "output_type": "display_data"
    },
    {
     "data": {
      "application/vnd.jupyter.widget-view+json": {
       "model_id": "98d2f70a7dc348ada01fd8e40e5e71e3",
       "version_major": 2,
       "version_minor": 0
      },
      "text/plain": [
       "Batches:   0%|          | 0/1 [00:00<?, ?it/s]"
      ]
     },
     "metadata": {},
     "output_type": "display_data"
    },
    {
     "data": {
      "application/vnd.jupyter.widget-view+json": {
       "model_id": "89f964e1dad5471b908a413b8807686e",
       "version_major": 2,
       "version_minor": 0
      },
      "text/plain": [
       "Batches:   0%|          | 0/1 [00:00<?, ?it/s]"
      ]
     },
     "metadata": {},
     "output_type": "display_data"
    },
    {
     "data": {
      "application/vnd.jupyter.widget-view+json": {
       "model_id": "43128827bbbe4e239b93a5eacfbca603",
       "version_major": 2,
       "version_minor": 0
      },
      "text/plain": [
       "Batches:   0%|          | 0/1 [00:00<?, ?it/s]"
      ]
     },
     "metadata": {},
     "output_type": "display_data"
    },
    {
     "data": {
      "application/vnd.jupyter.widget-view+json": {
       "model_id": "e821e75c03464655a90653eca8e132f1",
       "version_major": 2,
       "version_minor": 0
      },
      "text/plain": [
       "Batches:   0%|          | 0/1 [00:00<?, ?it/s]"
      ]
     },
     "metadata": {},
     "output_type": "display_data"
    },
    {
     "data": {
      "application/vnd.jupyter.widget-view+json": {
       "model_id": "1da05e98cf774d49802b56ff5ab5f518",
       "version_major": 2,
       "version_minor": 0
      },
      "text/plain": [
       "Batches:   0%|          | 0/1 [00:00<?, ?it/s]"
      ]
     },
     "metadata": {},
     "output_type": "display_data"
    },
    {
     "data": {
      "application/vnd.jupyter.widget-view+json": {
       "model_id": "2f71ada0cb1f48b28f505b7c15a6149c",
       "version_major": 2,
       "version_minor": 0
      },
      "text/plain": [
       "Batches:   0%|          | 0/1 [00:00<?, ?it/s]"
      ]
     },
     "metadata": {},
     "output_type": "display_data"
    },
    {
     "data": {
      "application/vnd.jupyter.widget-view+json": {
       "model_id": "4d3f66a833ba4532b960acff80155cf7",
       "version_major": 2,
       "version_minor": 0
      },
      "text/plain": [
       "Batches:   0%|          | 0/1 [00:00<?, ?it/s]"
      ]
     },
     "metadata": {},
     "output_type": "display_data"
    },
    {
     "data": {
      "application/vnd.jupyter.widget-view+json": {
       "model_id": "7fc0848795a64dd99d251f7c296afb38",
       "version_major": 2,
       "version_minor": 0
      },
      "text/plain": [
       "Batches:   0%|          | 0/1 [00:00<?, ?it/s]"
      ]
     },
     "metadata": {},
     "output_type": "display_data"
    },
    {
     "data": {
      "application/vnd.jupyter.widget-view+json": {
       "model_id": "322f614f931e4ce58e068525e2b2b3a4",
       "version_major": 2,
       "version_minor": 0
      },
      "text/plain": [
       "Batches:   0%|          | 0/1 [00:00<?, ?it/s]"
      ]
     },
     "metadata": {},
     "output_type": "display_data"
    },
    {
     "data": {
      "application/vnd.jupyter.widget-view+json": {
       "model_id": "7ecc3d17f2534284b260c6cd10d1de84",
       "version_major": 2,
       "version_minor": 0
      },
      "text/plain": [
       "Batches:   0%|          | 0/1 [00:00<?, ?it/s]"
      ]
     },
     "metadata": {},
     "output_type": "display_data"
    }
   ],
   "source": [
    "# Run\n",
    "retriever = MultiQueryRetriever(\n",
    "    retriever=db.as_retriever(), llm_chain=llm_chain, parser_key=\"lines\"\n",
    ")  # \"lines\" is the key (attribute name) of the parsed output\n",
    "\n",
    "# Results\n",
    "unique_docs = retriever.invoke(query)"
   ]
  },
  {
   "cell_type": "code",
   "execution_count": 46,
   "metadata": {},
   "outputs": [
    {
     "data": {
      "text/plain": [
       "[Document(id='43a9f86b-ab34-4b01-b41d-aa6226f104e1', metadata={'producer': 'macOS Version 14.2.1 (Build 23C71) Quartz PDFContext', 'creator': 'Safari', 'creationdate': \"D:20240110035838Z00'00'\", 'source': '/Users/wangzeyu/Desktop/Github projects/legalai-chatbot/data/meditations.pdf', 'file_path': '/Users/wangzeyu/Desktop/Github projects/legalai-chatbot/data/meditations.pdf', 'total_pages': 128, 'format': 'PDF 1.4', 'title': 'https:/www.maximusveritas.com/wp-content/uploads/2017/09/Marcus-Aurelius-Meditations', 'author': 'Arshad Kazi', 'subject': '', 'keywords': '', 'moddate': \"D:20240110035838Z00'00'\", 'trapped': '', 'modDate': \"D:20240110035838Z00'00'\", 'creationDate': \"D:20240110035838Z00'00'\", 'page': 69}, page_content='appetites, to discern rightly all plausible fancies and imaginations, to contemplate \\nthe nature of the universe; both it, and things that are done in it. In which kind of \\ncontemplation three several relations are to be observed The first, to the apparent \\nsecondary cause. The Second to the first original cause, God, from whom originally \\nproceeds whatsoever doth happen in the world. The third and last, to them that we \\nlive and converse with: what use may be made of it, to their use and benefit. \\nXXVI. If pain be an evil, either it is in regard of the body; (and that cannot be, be-\\ncause the body of itself is altogether insensible): or in regard of the soul But it is in \\nthe power of the soul, to preserve her own peace and tranquillity, and not to suppose \\nthat pain is evil. For all judgment and deliberation; all prosecution, or aversation is \\nfrom within, whither the sense of evil (except it be let in by opinion) cannot penetrate.'),\n",
       " Document(id='086f5366-713a-4692-9fc4-fe51ff26220f', metadata={'producer': 'macOS Version 14.2.1 (Build 23C71) Quartz PDFContext', 'creator': 'Safari', 'creationdate': \"D:20240110035838Z00'00'\", 'source': '/Users/wangzeyu/Desktop/Github projects/legalai-chatbot/data/meditations.pdf', 'file_path': '/Users/wangzeyu/Desktop/Github projects/legalai-chatbot/data/meditations.pdf', 'total_pages': 128, 'format': 'PDF 1.4', 'title': 'https:/www.maximusveritas.com/wp-content/uploads/2017/09/Marcus-Aurelius-Meditations', 'author': 'Arshad Kazi', 'subject': '', 'keywords': '', 'moddate': \"D:20240110035838Z00'00'\", 'trapped': '', 'modDate': \"D:20240110035838Z00'00'\", 'creationDate': \"D:20240110035838Z00'00'\", 'page': 18}, page_content='behold thy life is almost at an end, whiles affording thyself no respect, thou dost \\nmake thy happiness to consist in the souls, and conceits of other men. \\nIV Why should any of these things that happen externally, so much distract thee? \\nGive thyself leisure to learn some good thing, and cease roving and wandering to and \\nfro. Thou must also take heed of another kind of wandering, for they are idle in their \\nactions, who toil and labour in this life, and have no certain scope to which to direct \\nall their motions, and desires. \\nV. For not observing the state of another man’s soul, scarce was ever any man \\nknown to be unhappy. tell whosoever they be that intend not, and guide not by rea-\\nson and discretion the motions of their own souls, they must of necessity be unhap-\\npy. \\nVI. These things thou must always have in mind: What is the nature of the universe, \\nand what is mine — in particular: This unto that what relation it hath: what kind of'),\n",
       " Document(id='d119b463-9b18-4443-ba51-8e404f44e5cd', metadata={'producer': 'macOS Version 14.2.1 (Build 23C71) Quartz PDFContext', 'creator': 'Safari', 'creationdate': \"D:20240110035838Z00'00'\", 'source': '/Users/wangzeyu/Desktop/Github projects/legalai-chatbot/data/meditations.pdf', 'file_path': '/Users/wangzeyu/Desktop/Github projects/legalai-chatbot/data/meditations.pdf', 'total_pages': 128, 'format': 'PDF 1.4', 'title': 'https:/www.maximusveritas.com/wp-content/uploads/2017/09/Marcus-Aurelius-Meditations', 'author': 'Arshad Kazi', 'subject': '', 'keywords': '', 'moddate': \"D:20240110035838Z00'00'\", 'trapped': '', 'modDate': \"D:20240110035838Z00'00'\", 'creationDate': \"D:20240110035838Z00'00'\", 'page': 89}, page_content=\"MEDITATIONS OF MARCUS AURELIUS \\nTENTH BOOK \\nMarcus Aurelius' Meditations - tr. Casaubon v. 8.16, uploaded to www.philaletheians.co.uk, 14 July 2013 \\nPage 90 of 128 \\nXIII. What use is there of suspicion at all? or, why should thoughts of mistrust, and \\nsuspicion concerning that which is future, trouble thy mind at all? What now is to be \\ndone, if thou mayest search and inquiry into that, what needs thou care for more? \\nAnd if thou art well able to perceive it alone, let no man divert thee from it. But if \\nalone thou doest not so well perceive it, suspend thine action, and take advice from \\nthe best. And if there be anything else that doth hinder thee, go on with prudence \\nand discretion, according to the present occasion and opportunity, still proposing \\nthat unto thyself, which thou doest conceive most right and just. For to hit that \\naright, and to speed in the prosecution of it, must needs be happiness, since it is\"),\n",
       " Document(id='9acb6f9b-af09-49b6-994a-21a482941711', metadata={'producer': 'macOS Version 14.2.1 (Build 23C71) Quartz PDFContext', 'creator': 'Safari', 'creationdate': \"D:20240110035838Z00'00'\", 'source': '/Users/wangzeyu/Desktop/Github projects/legalai-chatbot/data/meditations.pdf', 'file_path': '/Users/wangzeyu/Desktop/Github projects/legalai-chatbot/data/meditations.pdf', 'total_pages': 128, 'format': 'PDF 1.4', 'title': 'https:/www.maximusveritas.com/wp-content/uploads/2017/09/Marcus-Aurelius-Meditations', 'author': 'Arshad Kazi', 'subject': '', 'keywords': '', 'moddate': \"D:20240110035838Z00'00'\", 'trapped': '', 'modDate': \"D:20240110035838Z00'00'\", 'creationDate': \"D:20240110035838Z00'00'\", 'page': 88}, page_content='there, which when as a mere naturalist, thou hast barely considered of according to \\ntheir nature, thou doest let pass without any further use? Whereas thou shouldst in \\nall things so join action and contemplation, that thou mightest both at the same time \\nattend all present occasions, to perform everything duly and carefully and yet so in-\\ntend the contemplative part too, that no part of that delight and pleasure, which the \\ncontemplative knowledge of everything according to its true nature doth of itself af-\\nford, might be lost. Or, that the true and contemplative knowledge of everything ac-\\ncording to its own nature, might of itself, (action being subject to many lets and im-\\npediments) afford unto thee sufficient pleasure and happiness. Not apparent indeed, \\nbut not concealed. And when shalt thou attain to the happiness of true simplicity, \\nand unaffected gravity? When shalt thou rejoice in the certain knowledge of every'),\n",
       " Document(id='87abc2f9-be5a-4fd5-81eb-d4ef958c1b80', metadata={'producer': 'macOS Version 14.2.1 (Build 23C71) Quartz PDFContext', 'creator': 'Safari', 'creationdate': \"D:20240110035838Z00'00'\", 'source': '/Users/wangzeyu/Desktop/Github projects/legalai-chatbot/data/meditations.pdf', 'file_path': '/Users/wangzeyu/Desktop/Github projects/legalai-chatbot/data/meditations.pdf', 'total_pages': 128, 'format': 'PDF 1.4', 'title': 'https:/www.maximusveritas.com/wp-content/uploads/2017/09/Marcus-Aurelius-Meditations', 'author': 'Arshad Kazi', 'subject': '', 'keywords': '', 'moddate': \"D:20240110035838Z00'00'\", 'trapped': '', 'modDate': \"D:20240110035838Z00'00'\", 'creationDate': \"D:20240110035838Z00'00'\", 'page': 63}, page_content='practice. For in this they both\\n33 agree, to teach a man whatsoever falls upon him, \\nthat he may be ready for it, and that nothing may cast him down. \\nXXXIV. Thou must continually ponder and consider with thyself, what manner of \\nmen they be, and for their minds and understandings what is their present estate, \\nwhose good word and testimony thou dost desire. For then neither wilt thou see \\ncause to complain of them that offend against their wills; or find any want of their \\napplause, if once thou dost but penetrate into the true force and ground both of their \\nopinions, and of their desires. “No soul (saith he) is willingly bereft of the truth,” and \\nby consequent, neither of justice, or temperance, or kindness, and mildness; nor of \\nanything that is of the same kind. It is most needful that thou shouldst always re-\\nmember this. For so shalt thou be far more gentle and moderate towards all men. \\nXXXV. What pain soever thou art in, let this presently come to thy mind, that it is'),\n",
       " Document(id='1a020f57-5bbf-416a-b330-f2a716e6124a', metadata={'producer': 'macOS Version 14.2.1 (Build 23C71) Quartz PDFContext', 'creator': 'Safari', 'creationdate': \"D:20240110035838Z00'00'\", 'source': '/Users/wangzeyu/Desktop/Github projects/legalai-chatbot/data/meditations.pdf', 'file_path': '/Users/wangzeyu/Desktop/Github projects/legalai-chatbot/data/meditations.pdf', 'total_pages': 128, 'format': 'PDF 1.4', 'title': 'https:/www.maximusveritas.com/wp-content/uploads/2017/09/Marcus-Aurelius-Meditations', 'author': 'Arshad Kazi', 'subject': '', 'keywords': '', 'moddate': \"D:20240110035838Z00'00'\", 'trapped': '', 'modDate': \"D:20240110035838Z00'00'\", 'creationDate': \"D:20240110035838Z00'00'\", 'page': 83}, page_content=\"MEDITATIONS OF MARCUS AURELIUS \\nNINTH BOOK \\nMarcus Aurelius' Meditations - tr. Casaubon v. 8.16, uploaded to www.philaletheians.co.uk, 14 July 2013 \\nPage 84 of 128 \\nperceive, if thou wilt but try thyself and pray. One prayeth that he may compass his \\ndesire, to lie with such or such a one, pray thou that thou mayst not lust to lie with \\nher. Another how he may be rid of such a one; pray thou that thou mayst so patient-\\nly bear with him, as that thou have no such need to be rid of him. Another, that he \\nmay not lose his child. Pray thou that thou mayst not fear to lose him. To this end \\nand purpose, let all thy prayer be, and see what will be the event. \\nXLI. “In my sickness” (saith Epicurus of himself): “my discourses were not concern-\\ning the nature of my disease, neither was that, to them that came to visit me, the \\nsubject of my talk; but in the consideration and contemplation of that, which was of \\nespecial weight and moment, was all my time bestowed and spent, and among others\"),\n",
       " Document(id='a726c653-5858-4abd-8eda-75b6b891da8b', metadata={'producer': 'macOS Version 14.2.1 (Build 23C71) Quartz PDFContext', 'creator': 'Safari', 'creationdate': \"D:20240110035838Z00'00'\", 'source': '/Users/wangzeyu/Desktop/Github projects/legalai-chatbot/data/meditations.pdf', 'file_path': '/Users/wangzeyu/Desktop/Github projects/legalai-chatbot/data/meditations.pdf', 'total_pages': 128, 'format': 'PDF 1.4', 'title': 'https:/www.maximusveritas.com/wp-content/uploads/2017/09/Marcus-Aurelius-Meditations', 'author': 'Arshad Kazi', 'subject': '', 'keywords': '', 'moddate': \"D:20240110035838Z00'00'\", 'trapped': '', 'modDate': \"D:20240110035838Z00'00'\", 'creationDate': \"D:20240110035838Z00'00'\", 'page': 50}, page_content='XXVII. If in this kind of life thy body be able to hold out, it is a shame that thy soul \\nshould faint first, and give over. take heed, lest of a philosopher thou become a mere \\nCaesar in time, and receive a new tincture from the court. For it may happen if thou \\ndost not take heed. Keep thyself therefore, truly simple, good, sincere, grave, free \\nfrom all ostentation, a lover of that which is just, religious, kind, tender-hearted, \\nstrong and vigorous to undergo anything that becomes thee. Endeavour to continue \\nsuch, as philosophy (hadst thou wholly and constantly applied thyself unto it) would \\nhave made, and secured thee. Worship the Gods, procure the welfare of men, this life \\nis short. Charitable actions, and a holy disposition, is the only fruit of this earthly \\nlife. \\nXXVIII. Do all things as becometh the disciple of Antoninus Pius. Remember his \\nresolute constancy in things that were done by him according to reason, his equabil-'),\n",
       " Document(id='a93c5233-f210-4091-9f93-6732f257e593', metadata={'producer': 'macOS Version 14.2.1 (Build 23C71) Quartz PDFContext', 'creator': 'Safari', 'creationdate': \"D:20240110035838Z00'00'\", 'source': '/Users/wangzeyu/Desktop/Github projects/legalai-chatbot/data/meditations.pdf', 'file_path': '/Users/wangzeyu/Desktop/Github projects/legalai-chatbot/data/meditations.pdf', 'total_pages': 128, 'format': 'PDF 1.4', 'title': 'https:/www.maximusveritas.com/wp-content/uploads/2017/09/Marcus-Aurelius-Meditations', 'author': 'Arshad Kazi', 'subject': '', 'keywords': '', 'moddate': \"D:20240110035838Z00'00'\", 'trapped': '', 'modDate': \"D:20240110035838Z00'00'\", 'creationDate': \"D:20240110035838Z00'00'\", 'page': 60}, page_content=\"MEDITATIONS OF MARCUS AURELIUS \\nSEVENTH BOOK \\nMarcus Aurelius' Meditations - tr. Casaubon v. 8.16, uploaded to www.philaletheians.co.uk, 14 July 2013 \\nPage 61 of 128 \\ntake heed withal, lest that whilst thou dust settle thy contentment in things present, \\nthou grow in time so to overprize them, as that the want of them (whensoever it shall \\nso fall out) should be a trouble and a vexation unto thee. Wind up thyself into thy-\\nself. Such is the nature of thy reasonable commanding part, as that if it exercise jus-\\ntice, and have by that means tranquillity within itself, it doth rest fully satisfied with \\nitself without any other thing. \\nXXI. Wipe off all opinion stay the force and violence of unreasonable lusts and affec-\\ntions: circumscribe the present time examine whatsoever it be that is happened, ei-\\nther to thyself or to another: divide all present objects, either in that which is formal \\nor material think of the last hour. That which thy neighbour bath committed, where\"),\n",
       " Document(id='52dde7e1-a8d9-4a20-9a79-8d860195118b', metadata={'producer': 'macOS Version 14.2.1 (Build 23C71) Quartz PDFContext', 'creator': 'Safari', 'creationdate': \"D:20240110035838Z00'00'\", 'source': '/Users/wangzeyu/Desktop/Github projects/legalai-chatbot/data/meditations.pdf', 'file_path': '/Users/wangzeyu/Desktop/Github projects/legalai-chatbot/data/meditations.pdf', 'total_pages': 128, 'format': 'PDF 1.4', 'title': 'https:/www.maximusveritas.com/wp-content/uploads/2017/09/Marcus-Aurelius-Meditations', 'author': 'Arshad Kazi', 'subject': '', 'keywords': '', 'moddate': \"D:20240110035838Z00'00'\", 'trapped': '', 'modDate': \"D:20240110035838Z00'00'\", 'creationDate': \"D:20240110035838Z00'00'\", 'page': 22}, page_content=\"MEDITATIONS OF MARCUS AURELIUS \\nTHIRD BOOK \\nMarcus Aurelius' Meditations - tr. Casaubon v. 8.16, uploaded to www.philaletheians.co.uk, 14 July 2013 \\nPage 23 of 128 \\nTHE THIRD BOOK \\nMAN MUST NOT ONLY CONSIDER how daily his life wasteth and decreaseth, but \\nthis also, that if he live long, he cannot be certain, whether his understand-\\ning shall continue so able and sufficient, for either discreet consideration, in \\nmatter of businesses; or for contemplation: it being the thing, whereon true \\nknowledge of things both divine and human, doth depend. For if once he shall begin \\nto dote, his respiration, nutrition, his imaginative, and appetitive, and other natural \\nfaculties, may still continue the same: he shall find no want of them. But how to \\nmake that right use of himself that he should, how to observe exactly in all things \\nthat which is right and just, how to redress and rectify all wrong, or sudden appre-\"),\n",
       " Document(id='8d5a1eb2-9c37-49c9-8ee7-d48ba945d743', metadata={'producer': 'macOS Version 14.2.1 (Build 23C71) Quartz PDFContext', 'creator': 'Safari', 'creationdate': \"D:20240110035838Z00'00'\", 'source': '/Users/wangzeyu/Desktop/Github projects/legalai-chatbot/data/meditations.pdf', 'file_path': '/Users/wangzeyu/Desktop/Github projects/legalai-chatbot/data/meditations.pdf', 'total_pages': 128, 'format': 'PDF 1.4', 'title': 'https:/www.maximusveritas.com/wp-content/uploads/2017/09/Marcus-Aurelius-Meditations', 'author': 'Arshad Kazi', 'subject': '', 'keywords': '', 'moddate': \"D:20240110035838Z00'00'\", 'trapped': '', 'modDate': \"D:20240110035838Z00'00'\", 'creationDate': \"D:20240110035838Z00'00'\", 'page': 92}, page_content=\"MEDITATIONS OF MARCUS AURELIUS \\nTENTH BOOK \\nMarcus Aurelius' Meditations - tr. Casaubon v. 8.16, uploaded to www.philaletheians.co.uk, 14 July 2013 \\nPage 93 of 128 \\none or other that hath been for estate and profession answerable unto him. Then let \\nthis come to thy mind at the same time; and where now are they all? Nowhere or an-\\nywhere? For so shalt thou at all time. be able to perceive how all worldly things are \\nbut as the smoke, that vanisheth away: or, indeed, mere nothing. Especially when \\nthou shalt call to mind this also, that whatsoever is once changed, shall never be \\nagain as long as the world endureth. And thou then, how long shalt thou endure? \\nAnd why doth it not suffice thee, if virtuously, and as becometh thee, thou mayest \\npass that portion of time, how little soever it be, that is allotted unto thee? \\nXXXII. What a subject, and what a course of life is it, that thou doest so much desire\"),\n",
       " Document(id='f68a28ec-c79f-454b-b25f-423bd87c5b2c', metadata={'producer': 'macOS Version 14.2.1 (Build 23C71) Quartz PDFContext', 'creator': 'Safari', 'creationdate': \"D:20240110035838Z00'00'\", 'source': '/Users/wangzeyu/Desktop/Github projects/legalai-chatbot/data/meditations.pdf', 'file_path': '/Users/wangzeyu/Desktop/Github projects/legalai-chatbot/data/meditations.pdf', 'total_pages': 128, 'format': 'PDF 1.4', 'title': 'https:/www.maximusveritas.com/wp-content/uploads/2017/09/Marcus-Aurelius-Meditations', 'author': 'Arshad Kazi', 'subject': '', 'keywords': '', 'moddate': \"D:20240110035838Z00'00'\", 'trapped': '', 'modDate': \"D:20240110035838Z00'00'\", 'creationDate': \"D:20240110035838Z00'00'\", 'page': 59}, page_content=\"MEDITATIONS OF MARCUS AURELIUS \\nSEVENTH BOOK \\nMarcus Aurelius' Meditations - tr. Casaubon v. 8.16, uploaded to www.philaletheians.co.uk, 14 July 2013 \\nPage 60 of 128 \\ntracted and thy mind too earnestly set upon anything, upon every such occasion \\npresently come to thy mind. Of all my thoughts and cares, one only thing shall be the \\nobject, that I myself do nothing which to the proper constitution of man, (either in \\nregard of the thing itself, or in regard of the manner, or of the time of doing), is con-\\ntrary. The time when thou shalt have forgotten all things, is at hand. And that time \\nalso is at hand, when thou thyself shalt be forgotten by all. Whilst thou art, apply \\nthyself to that especially which unto man as he is a mart, is most proper and agreea-\\nble, and that is, for a man even to love them that transgress against him. This shall \\nbe, if at the same time that any such thing doth happen, thou call to mind, that they\"),\n",
       " Document(id='1a2134fc-0b90-440f-aae3-c270acbff138', metadata={'producer': 'macOS Version 14.2.1 (Build 23C71) Quartz PDFContext', 'creator': 'Safari', 'creationdate': \"D:20240110035838Z00'00'\", 'source': '/Users/wangzeyu/Desktop/Github projects/legalai-chatbot/data/meditations.pdf', 'file_path': '/Users/wangzeyu/Desktop/Github projects/legalai-chatbot/data/meditations.pdf', 'total_pages': 128, 'format': 'PDF 1.4', 'title': 'https:/www.maximusveritas.com/wp-content/uploads/2017/09/Marcus-Aurelius-Meditations', 'author': 'Arshad Kazi', 'subject': '', 'keywords': '', 'moddate': \"D:20240110035838Z00'00'\", 'trapped': '', 'modDate': \"D:20240110035838Z00'00'\", 'creationDate': \"D:20240110035838Z00'00'\", 'page': 34}, page_content=\"MEDITATIONS OF MARCUS AURELIUS \\nFOURTH BOOK \\nMarcus Aurelius' Meditations - tr. Casaubon v. 8.16, uploaded to www.philaletheians.co.uk, 14 July 2013 \\nPage 35 of 128 \\nto meditate upon this, that the nature of the universe delights in nothing more, than \\nin altering those things that are, and in making others like unto them. So that we \\nmay say, that whatsoever is, is but as it were the seed of that which shall be. For if \\nthou think that that only is seed, which either the earth or the womb receiveth, thou \\nart very simple. \\nXXX. Thou art now ready to die, and yet hast thou not attained to that perfect sim-\\nplicity: thou art yet subject to many troubles and perturbations; not yet free from all \\nfear and suspicion of external accidents; nor yet either so meekly disposed towards \\nall men, as thou shouldest; or so affected as one, whose only study and only wisdom \\nis, to be just in all his actions. \\nXXXI. Behold and observe, what is the state of their rational part; and those that the\"),\n",
       " Document(id='fb8ee23c-0c47-414b-87a8-60e00de0f593', metadata={'producer': 'macOS Version 14.2.1 (Build 23C71) Quartz PDFContext', 'creator': 'Safari', 'creationdate': \"D:20240110035838Z00'00'\", 'source': '/Users/wangzeyu/Desktop/Github projects/legalai-chatbot/data/meditations.pdf', 'file_path': '/Users/wangzeyu/Desktop/Github projects/legalai-chatbot/data/meditations.pdf', 'total_pages': 128, 'format': 'PDF 1.4', 'title': 'https:/www.maximusveritas.com/wp-content/uploads/2017/09/Marcus-Aurelius-Meditations', 'author': 'Arshad Kazi', 'subject': '', 'keywords': '', 'moddate': \"D:20240110035838Z00'00'\", 'trapped': '', 'modDate': \"D:20240110035838Z00'00'\", 'creationDate': \"D:20240110035838Z00'00'\", 'page': 40}, page_content=\"MEDITATIONS OF MARCUS AURELIUS \\nFIFTH BOOK \\nMarcus Aurelius' Meditations - tr. Casaubon v. 8.16, uploaded to www.philaletheians.co.uk, 14 July 2013 \\nPage 41 of 128 \\nat all to obey reason but of ease and comfort. And remember that philosophy re-\\nquireth nothing of thee, but what thy nature requireth, and wouldest thou thyself \\ndesire anything that is not according to nature? for which of these sayest thou; that \\nwhich is according to nature or against it, is of itself more kind and pleasing? Is it \\nnot for that respect especially, that pleasure itself is to so many men’s hurt and over-\\nthrow, most prevalent, because esteemed commonly most kind, and natural? But \\nconsider well whether magnanimity rather, and true liberty, and true simplicity, and \\nequanimity, and holiness; whether these be not most kind and natural? And pruden-\\ncy itself, what more kind and amiable than it, when thou shalt truly consider with\"),\n",
       " Document(id='18e818bf-8da5-4000-960b-1cab7e691584', metadata={'producer': 'macOS Version 14.2.1 (Build 23C71) Quartz PDFContext', 'creator': 'Safari', 'creationdate': \"D:20240110035838Z00'00'\", 'source': '/Users/wangzeyu/Desktop/Github projects/legalai-chatbot/data/meditations.pdf', 'file_path': '/Users/wangzeyu/Desktop/Github projects/legalai-chatbot/data/meditations.pdf', 'total_pages': 128, 'format': 'PDF 1.4', 'title': 'https:/www.maximusveritas.com/wp-content/uploads/2017/09/Marcus-Aurelius-Meditations', 'author': 'Arshad Kazi', 'subject': '', 'keywords': '', 'moddate': \"D:20240110035838Z00'00'\", 'trapped': '', 'modDate': \"D:20240110035838Z00'00'\", 'creationDate': \"D:20240110035838Z00'00'\", 'page': 37}, page_content=\"MEDITATIONS OF MARCUS AURELIUS \\nFIFTH BOOK \\nMarcus Aurelius' Meditations - tr. Casaubon v. 8.16, uploaded to www.philaletheians.co.uk, 14 July 2013 \\nPage 38 of 128 \\nTHE FIFTH BOOK \\nN THE MORNING when thou findest thyself unwilling to rise, consider with thyself \\npresently, it is to go about a man’s work that I am stirred up. Am I then yet un-\\nwilling to go about that, for which I myself was born and brought forth into this \\nworld? Or was I made for this, to lay me down, and make much of myself in a warm \\nbed? “O but this is pleasing.” And was it then for this that thou wert born, that thou \\nmightest enjoy pleasure? Was it not in very truth for this, that thou mightest always \\nbe busy and in action? Seest thou not how all things in the world besides, how every \\ntree and plant, how sparrows and ants, spiders and bees: how all in their kind are \\nintent as it were orderly to perform whatsoever (towards the preservation of this or-\"),\n",
       " Document(id='d05d85f4-c32f-46bc-96c1-35f8c0d4d59d', metadata={'producer': 'macOS Version 14.2.1 (Build 23C71) Quartz PDFContext', 'creator': 'Safari', 'creationdate': \"D:20240110035838Z00'00'\", 'source': '/Users/wangzeyu/Desktop/Github projects/legalai-chatbot/data/meditations.pdf', 'file_path': '/Users/wangzeyu/Desktop/Github projects/legalai-chatbot/data/meditations.pdf', 'total_pages': 128, 'format': 'PDF 1.4', 'title': 'https:/www.maximusveritas.com/wp-content/uploads/2017/09/Marcus-Aurelius-Meditations', 'author': 'Arshad Kazi', 'subject': '', 'keywords': '', 'moddate': \"D:20240110035838Z00'00'\", 'trapped': '', 'modDate': \"D:20240110035838Z00'00'\", 'creationDate': \"D:20240110035838Z00'00'\", 'page': 116}, page_content=\"MEDITATIONS OF MARCUS AURELIUS \\nAPPENDIX \\nMarcus Aurelius' Meditations - tr. Casaubon v. 8.16, uploaded to www.philaletheians.co.uk, 14 July 2013 \\nPage 117 of 128 \\ncold, whether from walking in slippers or from writing badly, I do not know. I \\nam always annoyed with phlegm, but to-day I seem to snivel more than usual. \\nWell, I will pour oil on my head and go off to sleep. I don’t mean to put one drop \\nin my lamp to-day, so weary am I from riding and sneezing. Farewell, dearest \\nand most beloved master, whom I miss, I may say, more than Rome itself.” \\n“MY BELOVED MASTER, — I am well. I slept a little more than usual for my slight \\ncold, which seems to be well again. So I spent the time from the eleventh hour \\nof the night to the third of the day partly in reading in Cato’s Agriculture, partly \\nin writing, not quite so badly as yesterday indeed. Then, after waiting upon my \\nfather, I soothed my throat with honey-water, ejecting it without swallowing: I\"),\n",
       " Document(id='32330e18-d639-459e-b789-bcda19d4c449', metadata={'producer': 'macOS Version 14.2.1 (Build 23C71) Quartz PDFContext', 'creator': 'Safari', 'creationdate': \"D:20240110035838Z00'00'\", 'source': '/Users/wangzeyu/Desktop/Github projects/legalai-chatbot/data/meditations.pdf', 'file_path': '/Users/wangzeyu/Desktop/Github projects/legalai-chatbot/data/meditations.pdf', 'total_pages': 128, 'format': 'PDF 1.4', 'title': 'https:/www.maximusveritas.com/wp-content/uploads/2017/09/Marcus-Aurelius-Meditations', 'author': 'Arshad Kazi', 'subject': '', 'keywords': '', 'moddate': \"D:20240110035838Z00'00'\", 'trapped': '', 'modDate': \"D:20240110035838Z00'00'\", 'creationDate': \"D:20240110035838Z00'00'\", 'page': 68}, page_content=\"MEDITATIONS OF MARCUS AURELIUS \\nEIGHTH BOOK \\nMarcus Aurelius' Meditations - tr. Casaubon v. 8.16, uploaded to www.philaletheians.co.uk, 14 July 2013 \\nPage 69 of 128 \\nXII. As every fancy and imagination presents itself unto thee, consider (if it be possi-\\nble) the true nature, and the proper qualities of it, and reason with thyself about it. \\nXIII. At thy first encounter with any one, say presently to thyself: This man, what are \\nhis opinions concerning that which is good or evil? as concerning pain, pleasure, and \\nthe causes of both; concerning honour, and dishonour, concerning life and death? \\nthus and thus. Now if it be no wonder that a man should have such and such opin-\\nions, how can it be a wonder that he should do such and such things? I will remem-\\nber then, that he cannot but do as he doth, holding those opinions that he doth. Re-\\nmember, that as it is a shame for any man to wonder that a fig tree should bear figs,\"),\n",
       " Document(id='b7ea9fdc-b207-49a2-9954-4de0ef55c762', metadata={'producer': 'macOS Version 14.2.1 (Build 23C71) Quartz PDFContext', 'creator': 'Safari', 'creationdate': \"D:20240110035838Z00'00'\", 'source': '/Users/wangzeyu/Desktop/Github projects/legalai-chatbot/data/meditations.pdf', 'file_path': '/Users/wangzeyu/Desktop/Github projects/legalai-chatbot/data/meditations.pdf', 'total_pages': 128, 'format': 'PDF 1.4', 'title': 'https:/www.maximusveritas.com/wp-content/uploads/2017/09/Marcus-Aurelius-Meditations', 'author': 'Arshad Kazi', 'subject': '', 'keywords': '', 'moddate': \"D:20240110035838Z00'00'\", 'trapped': '', 'modDate': \"D:20240110035838Z00'00'\", 'creationDate': \"D:20240110035838Z00'00'\", 'page': 62}, page_content='For what can be more reasonable? And as anything doth happen unto thee by way of \\n                                            \\n31 [“And as for those parts,” etc. (50): A quotation from Euripides, Chrysippus, frag. 839 (Nauck).] \\n32 [“With meats,” etc. (51): From Euripides, Supplices, 1110.]'),\n",
       " Document(id='1484ec12-6ad2-444a-b51c-1e954362beb6', metadata={'producer': 'macOS Version 14.2.1 (Build 23C71) Quartz PDFContext', 'creator': 'Safari', 'creationdate': \"D:20240110035838Z00'00'\", 'source': '/Users/wangzeyu/Desktop/Github projects/legalai-chatbot/data/meditations.pdf', 'file_path': '/Users/wangzeyu/Desktop/Github projects/legalai-chatbot/data/meditations.pdf', 'total_pages': 128, 'format': 'PDF 1.4', 'title': 'https:/www.maximusveritas.com/wp-content/uploads/2017/09/Marcus-Aurelius-Meditations', 'author': 'Arshad Kazi', 'subject': '', 'keywords': '', 'moddate': \"D:20240110035838Z00'00'\", 'trapped': '', 'modDate': \"D:20240110035838Z00'00'\", 'creationDate': \"D:20240110035838Z00'00'\", 'page': 83}, page_content='give ear to the discourses of silly people, and mere naturalists. \\nXLII. It is common to all trades and professions to mind and intend that only, which \\nnow they are about, and the instrument whereby they work. \\nXLIII. When at any time thou art offended with any one’s impudency, put presently \\nthis question to thyself: “What? Is it then possible, that there should not be any im-\\npudent men in the world! Certainly it is not possible.” Desire not then that which is \\nimpossible. For this one, (thou must think) whosoever he be, is one of those impu-\\ndent ones, that the world cannot be without. So of the subtile and crafty, so of the \\nperfidious, so of every one that offendeth, must thou ever be ready to reason with \\nthyself. For whilst in general thou dost thus reason with thyself, that the kind of \\nthem must needs be in the world, thou wilt be the better able to use meekness to-\\nwards every particular. This also thou shalt find of very good use, upon every such'),\n",
       " Document(id='da938a3c-4421-4779-ab32-3e26e02dfd3d', metadata={'producer': 'macOS Version 14.2.1 (Build 23C71) Quartz PDFContext', 'creator': 'Safari', 'creationdate': \"D:20240110035838Z00'00'\", 'source': '/Users/wangzeyu/Desktop/Github projects/legalai-chatbot/data/meditations.pdf', 'file_path': '/Users/wangzeyu/Desktop/Github projects/legalai-chatbot/data/meditations.pdf', 'total_pages': 128, 'format': 'PDF 1.4', 'title': 'https:/www.maximusveritas.com/wp-content/uploads/2017/09/Marcus-Aurelius-Meditations', 'author': 'Arshad Kazi', 'subject': '', 'keywords': '', 'moddate': \"D:20240110035838Z00'00'\", 'trapped': '', 'modDate': \"D:20240110035838Z00'00'\", 'creationDate': \"D:20240110035838Z00'00'\", 'page': 31}, page_content='crease. O Nature! from thee are all things, in thee all things subsist, and to thee all \\ntend. Could he say of Athens, Thou lovely city of Cecrops; and shalt not thou say of \\nthe world, Thou lovely city of God? \\n                                            \\n14 [οικονομίαν (16) is a “practical benefit,” a secondary end.]'),\n",
       " Document(id='e8cfb08b-a379-41c0-a05d-8a010ab394ee', metadata={'producer': 'macOS Version 14.2.1 (Build 23C71) Quartz PDFContext', 'creator': 'Safari', 'creationdate': \"D:20240110035838Z00'00'\", 'source': '/Users/wangzeyu/Desktop/Github projects/legalai-chatbot/data/meditations.pdf', 'file_path': '/Users/wangzeyu/Desktop/Github projects/legalai-chatbot/data/meditations.pdf', 'total_pages': 128, 'format': 'PDF 1.4', 'title': 'https:/www.maximusveritas.com/wp-content/uploads/2017/09/Marcus-Aurelius-Meditations', 'author': 'Arshad Kazi', 'subject': '', 'keywords': '', 'moddate': \"D:20240110035838Z00'00'\", 'trapped': '', 'modDate': \"D:20240110035838Z00'00'\", 'creationDate': \"D:20240110035838Z00'00'\", 'page': 96}, page_content='pus Tyrannus, 1391.] \\n43 [“New Comedy . . . ,” etc. C. has here strayed from the Greek rather widely. Translate: “and understand to \\nwhat end the New Comedy was adopted, which by small degrees degenerated into a mere show of skill in mim-\\nicry.” C. writes Comædia Vetus, Media, Nova.]'),\n",
       " Document(id='5682ced1-6fa5-496e-adfc-8d63b41b23f1', metadata={'producer': 'macOS Version 14.2.1 (Build 23C71) Quartz PDFContext', 'creator': 'Safari', 'creationdate': \"D:20240110035838Z00'00'\", 'source': '/Users/wangzeyu/Desktop/Github projects/legalai-chatbot/data/meditations.pdf', 'file_path': '/Users/wangzeyu/Desktop/Github projects/legalai-chatbot/data/meditations.pdf', 'total_pages': 128, 'format': 'PDF 1.4', 'title': 'https:/www.maximusveritas.com/wp-content/uploads/2017/09/Marcus-Aurelius-Meditations', 'author': 'Arshad Kazi', 'subject': '', 'keywords': '', 'moddate': \"D:20240110035838Z00'00'\", 'trapped': '', 'modDate': \"D:20240110035838Z00'00'\", 'creationDate': \"D:20240110035838Z00'00'\", 'page': 77}, page_content=\"MEDITATIONS OF MARCUS AURELIUS \\nNINTH BOOK \\nMarcus Aurelius' Meditations - tr. Casaubon v. 8.16, uploaded to www.philaletheians.co.uk, 14 July 2013 \\nPage 78 of 128 \\nin those wicked courses. Hath not yet experience taught thee to fly from the plague? \\nFor a far greater plague is the corruption of the mind, than any certain change and \\ndistemper of the common air can be. This is a plague of creatures, as they are living \\ncreatures; but that of men as they are men or reasonable. \\nIII. Thou must not in matter of death carry thyself scornfully, but as one that is well \\npleased with it, as being one of those things that nature hath appointed. For what \\nthou dost conceive of these, of a boy to become a young man, to wax old, to grow, to \\nripen, to get teeth, or a beard, or grey hairs to beget, to bear, or to be delivered; or \\nwhat other action soever it be, that is natural unto man according to the several sea-\"),\n",
       " Document(id='dac0e833-974a-486b-9b1f-b498e907a9fe', metadata={'producer': 'macOS Version 14.2.1 (Build 23C71) Quartz PDFContext', 'creator': 'Safari', 'creationdate': \"D:20240110035838Z00'00'\", 'source': '/Users/wangzeyu/Desktop/Github projects/legalai-chatbot/data/meditations.pdf', 'file_path': '/Users/wangzeyu/Desktop/Github projects/legalai-chatbot/data/meditations.pdf', 'total_pages': 128, 'format': 'PDF 1.4', 'title': 'https:/www.maximusveritas.com/wp-content/uploads/2017/09/Marcus-Aurelius-Meditations', 'author': 'Arshad Kazi', 'subject': '', 'keywords': '', 'moddate': \"D:20240110035838Z00'00'\", 'trapped': '', 'modDate': \"D:20240110035838Z00'00'\", 'creationDate': \"D:20240110035838Z00'00'\", 'page': 48}, page_content=\"MEDITATIONS OF MARCUS AURELIUS \\nSIXTH BOOK \\nMarcus Aurelius' Meditations - tr. Casaubon v. 8.16, uploaded to www.philaletheians.co.uk, 14 July 2013 \\nPage 49 of 128 \\naffection upon some ordinary sparrow living by him, who is no sooner seen, than out \\nof sight. For we must not think otherwise of our lives, than as a mere exhalation of \\nblood, or of an ordinary respiration of air. For what in our common apprehension is, \\nto breathe in the air and to breathe it out again, which we do daily: so much is it and \\nno more, at once to breathe out all thy respirative faculty into that common air from \\nwhence but lately (as being but from yesterday, and to-day), thou didst first breathe \\nit in, and with it, life. \\nXV. Not vegetative spiration, it is not surely (which plants have) that in this life \\nshould be so dear unto us; nor sensitive respiration, the proper life of beasts, both \\ntame and wild; nor this our imaginative faculty; nor that we are subject to be led and\"),\n",
       " Document(id='4756453a-62b4-4dfa-89cd-f12763f9db42', metadata={'producer': 'macOS Version 14.2.1 (Build 23C71) Quartz PDFContext', 'creator': 'Safari', 'creationdate': \"D:20240110035838Z00'00'\", 'source': '/Users/wangzeyu/Desktop/Github projects/legalai-chatbot/data/meditations.pdf', 'file_path': '/Users/wangzeyu/Desktop/Github projects/legalai-chatbot/data/meditations.pdf', 'total_pages': 128, 'format': 'PDF 1.4', 'title': 'https:/www.maximusveritas.com/wp-content/uploads/2017/09/Marcus-Aurelius-Meditations', 'author': 'Arshad Kazi', 'subject': '', 'keywords': '', 'moddate': \"D:20240110035838Z00'00'\", 'trapped': '', 'modDate': \"D:20240110035838Z00'00'\", 'creationDate': \"D:20240110035838Z00'00'\", 'page': 32}, page_content=\"MEDITATIONS OF MARCUS AURELIUS \\nFOURTH BOOK \\nMarcus Aurelius' Meditations - tr. Casaubon v. 8.16, uploaded to www.philaletheians.co.uk, 14 July 2013 \\nPage 33 of 128 \\nXX. They will say commonly, Meddle not with many things, if thou wilt live cheerful-\\nly. Certainly there is nothing better, than for a man to confine himself to necessary \\nactions; to such and so many only, as reason in a creature that knows itself born for \\nsociety, will command and enjoin. This will not only procure that cheerfulness, which \\nfrom the goodness, but that also, which from the paucity of actions doth usually pro-\\nceed. For since it is so, that most of those things, which we either speak or do, are \\nunnecessary; if a man shall cut them off, it must needs follow that he shall thereby \\ngain much leisure, and save much trouble, and therefore at every action a man must \\nprivately by way of admonition suggest unto himself, What? may not this that now I\"),\n",
       " Document(id='dcc3d99c-b289-4ef7-9e28-bdcdf536aa64', metadata={'producer': 'macOS Version 14.2.1 (Build 23C71) Quartz PDFContext', 'creator': 'Safari', 'creationdate': \"D:20240110035838Z00'00'\", 'source': '/Users/wangzeyu/Desktop/Github projects/legalai-chatbot/data/meditations.pdf', 'file_path': '/Users/wangzeyu/Desktop/Github projects/legalai-chatbot/data/meditations.pdf', 'total_pages': 128, 'format': 'PDF 1.4', 'title': 'https:/www.maximusveritas.com/wp-content/uploads/2017/09/Marcus-Aurelius-Meditations', 'author': 'Arshad Kazi', 'subject': '', 'keywords': '', 'moddate': \"D:20240110035838Z00'00'\", 'trapped': '', 'modDate': \"D:20240110035838Z00'00'\", 'creationDate': \"D:20240110035838Z00'00'\", 'page': 6}, page_content='end there must be continual self-examination. “If thou may not continually gather \\nthyself together, namely sometimes do it, at least once a day, the morning or the \\nevening. In the morning purpose, in the evening discuss the manner, what thou hast \\nbeen this day, in word, work, and thought.” But while the Roman’s temper is a mod-'),\n",
       " Document(id='b902cb95-b2c3-4df4-b20b-5a1cc08ff68a', metadata={'producer': 'macOS Version 14.2.1 (Build 23C71) Quartz PDFContext', 'creator': 'Safari', 'creationdate': \"D:20240110035838Z00'00'\", 'source': '/Users/wangzeyu/Desktop/Github projects/legalai-chatbot/data/meditations.pdf', 'file_path': '/Users/wangzeyu/Desktop/Github projects/legalai-chatbot/data/meditations.pdf', 'total_pages': 128, 'format': 'PDF 1.4', 'title': 'https:/www.maximusveritas.com/wp-content/uploads/2017/09/Marcus-Aurelius-Meditations', 'author': 'Arshad Kazi', 'subject': '', 'keywords': '', 'moddate': \"D:20240110035838Z00'00'\", 'trapped': '', 'modDate': \"D:20240110035838Z00'00'\", 'creationDate': \"D:20240110035838Z00'00'\", 'page': 57}, page_content=\"MEDITATIONS OF MARCUS AURELIUS \\nSEVENTH BOOK \\nMarcus Aurelius' Meditations - tr. Casaubon v. 8.16, uploaded to www.philaletheians.co.uk, 14 July 2013 \\nPage 58 of 128 \\nseasonable and useful for the common good. For whatsoever I do either by myself, or \\nwith some other, the only thing that I must intend, is, that it be good and expedient \\nfor the public. For as for praise, consider how many who once were much commend-\\ned, are now already quite forgotten, yea they that commended them, how even they \\nthemselves are long since dead and gone. Be not therefore ashamed, whensoever \\nthou must use the help of others. For whatsoever it be that lieth upon thee to effect, \\nthou must propose it unto thyself, as the scaling of walls is unto a soldier. And what \\nif thou through either lameness or some other impediment art not able to reach unto \\nthe top of the battlements alone, which with the help of another thou mayst; wilt\"),\n",
       " Document(id='89e32f97-1e9a-40b2-84d3-d630f561c9ed', metadata={'producer': 'macOS Version 14.2.1 (Build 23C71) Quartz PDFContext', 'creator': 'Safari', 'creationdate': \"D:20240110035838Z00'00'\", 'source': '/Users/wangzeyu/Desktop/Github projects/legalai-chatbot/data/meditations.pdf', 'file_path': '/Users/wangzeyu/Desktop/Github projects/legalai-chatbot/data/meditations.pdf', 'total_pages': 128, 'format': 'PDF 1.4', 'title': 'https:/www.maximusveritas.com/wp-content/uploads/2017/09/Marcus-Aurelius-Meditations', 'author': 'Arshad Kazi', 'subject': '', 'keywords': '', 'moddate': \"D:20240110035838Z00'00'\", 'trapped': '', 'modDate': \"D:20240110035838Z00'00'\", 'creationDate': \"D:20240110035838Z00'00'\", 'page': 84}, page_content=\"MEDITATIONS OF MARCUS AURELIUS \\nNINTH BOOK \\nMarcus Aurelius' Meditations - tr. Casaubon v. 8.16, uploaded to www.philaletheians.co.uk, 14 July 2013 \\nPage 85 of 128 \\nforesee it, but moreover dost wonder at it, that such a thing should be. But then es-\\npecially, when thou dost find fault with either an unthankful, or a false man, must \\nthou reflect upon thyself. For without all question, thou thyself art much in fault, if \\neither of one that were of such a disposition, thou didst expect that he should be true \\nunto thee: or when unto any thou didst a good turn, thou didst not there bound thy \\nthoughts, as one that had obtained his end; nor didst not think that from the action \\nitself thou hadst received a full reward of the good that thou hadst done. For what \\nwouldst thou have more? Unto him that is a man, thou hast done a good turn: doth \\nnot that suffice thee? What thy nature required, that hast thou done. Must thou be\"),\n",
       " Document(id='a322f155-fc4f-48b2-85fb-6f4ac702408b', metadata={'producer': 'macOS Version 14.2.1 (Build 23C71) Quartz PDFContext', 'creator': 'Safari', 'creationdate': \"D:20240110035838Z00'00'\", 'source': '/Users/wangzeyu/Desktop/Github projects/legalai-chatbot/data/meditations.pdf', 'file_path': '/Users/wangzeyu/Desktop/Github projects/legalai-chatbot/data/meditations.pdf', 'total_pages': 128, 'format': 'PDF 1.4', 'title': 'https:/www.maximusveritas.com/wp-content/uploads/2017/09/Marcus-Aurelius-Meditations', 'author': 'Arshad Kazi', 'subject': '', 'keywords': '', 'moddate': \"D:20240110035838Z00'00'\", 'trapped': '', 'modDate': \"D:20240110035838Z00'00'\", 'creationDate': \"D:20240110035838Z00'00'\", 'page': 85}, page_content=\"MEDITATIONS OF MARCUS AURELIUS \\nTENTH BOOK \\nMarcus Aurelius' Meditations - tr. Casaubon v. 8.16, uploaded to www.philaletheians.co.uk, 14 July 2013 \\nPage 86 of 128 \\nTHE TENTH BOOK \\nMY SOUL, the time I trust will be, when thou shalt be good, simple, single, \\nmore open and visible, than that body by which it is enclosed. Thou wilt one \\nday be sensible of their happiness, whose end is love, and their affections \\ndead to all worldly things. Thou shalt one day be full, and in want of no external \\nthing: not seeking pleasure from anything, either living or insensible, that this world \\ncan afford; neither wanting time for the continuation of thy pleasure, nor place and \\nopportunity, nor the favour either of the weather or of men. When thou shalt have \\ncontent in thy present estate, and all things present shall add to thy content: when \\nthou shalt persuade thyself, that thou hast all things; all for thy good, and all by the\"),\n",
       " Document(id='43cd37ac-50df-4f61-ac77-5f4c7f24a114', metadata={'producer': 'macOS Version 14.2.1 (Build 23C71) Quartz PDFContext', 'creator': 'Safari', 'creationdate': \"D:20240110035838Z00'00'\", 'source': '/Users/wangzeyu/Desktop/Github projects/legalai-chatbot/data/meditations.pdf', 'file_path': '/Users/wangzeyu/Desktop/Github projects/legalai-chatbot/data/meditations.pdf', 'total_pages': 128, 'format': 'PDF 1.4', 'title': 'https:/www.maximusveritas.com/wp-content/uploads/2017/09/Marcus-Aurelius-Meditations', 'author': 'Arshad Kazi', 'subject': '', 'keywords': '', 'moddate': \"D:20240110035838Z00'00'\", 'trapped': '', 'modDate': \"D:20240110035838Z00'00'\", 'creationDate': \"D:20240110035838Z00'00'\", 'page': 42}, page_content='he is overseen that is thought to have done the wrong. Again, often meditate how \\nswiftly all things that subsist, and all things that are done in the world, are carried \\naway, and as it were conveyed out of sight: for both the substance themselves, we \\nsee as a flood, are in a continual flux; and all actions in a perpetual change; and the'),\n",
       " Document(id='122f1ec2-119d-41cc-8f8f-507f1c830cdf', metadata={'producer': 'macOS Version 14.2.1 (Build 23C71) Quartz PDFContext', 'creator': 'Safari', 'creationdate': \"D:20240110035838Z00'00'\", 'source': '/Users/wangzeyu/Desktop/Github projects/legalai-chatbot/data/meditations.pdf', 'file_path': '/Users/wangzeyu/Desktop/Github projects/legalai-chatbot/data/meditations.pdf', 'total_pages': 128, 'format': 'PDF 1.4', 'title': 'https:/www.maximusveritas.com/wp-content/uploads/2017/09/Marcus-Aurelius-Meditations', 'author': 'Arshad Kazi', 'subject': '', 'keywords': '', 'moddate': \"D:20240110035838Z00'00'\", 'trapped': '', 'modDate': \"D:20240110035838Z00'00'\", 'creationDate': \"D:20240110035838Z00'00'\", 'page': 29}, page_content='things, keep thyself from distraction, and intend not anything vehemently, but be \\nfree and consider all things, as a man whose proper object is Virtue, as a man whose \\ntrue nature is to be kind and sociable, as a citizen, as a mortal creature. Among oth-\\ner things, which to consider, and look into thou must use to withdraw thyself, let \\nthose two be among the most obvious and at hand. One, that the things or objects \\nthemselves reach not unto the soul, but stand without still and quiet, and that it is \\nfrom the opinion only which is within, that all the tumult and all the trouble doth \\nproceed. The next, that all these things, which now thou seest, shall within a very \\nlittle while be changed, and be no more: and ever call to mind, how many changes \\nand alterations in the world thou thyself hast already been an eyewitness of in thy \\ntime. This world is mere change, and this life, opinion. \\nIV. If to understand and to be reasonable be common unto all men, then is that rea-'),\n",
       " Document(id='74fe80e5-069b-4c03-a0e5-49e5032b7a33', metadata={'producer': 'macOS Version 14.2.1 (Build 23C71) Quartz PDFContext', 'creator': 'Safari', 'creationdate': \"D:20240110035838Z00'00'\", 'source': '/Users/wangzeyu/Desktop/Github projects/legalai-chatbot/data/meditations.pdf', 'file_path': '/Users/wangzeyu/Desktop/Github projects/legalai-chatbot/data/meditations.pdf', 'total_pages': 128, 'format': 'PDF 1.4', 'title': 'https:/www.maximusveritas.com/wp-content/uploads/2017/09/Marcus-Aurelius-Meditations', 'author': 'Arshad Kazi', 'subject': '', 'keywords': '', 'moddate': \"D:20240110035838Z00'00'\", 'trapped': '', 'modDate': \"D:20240110035838Z00'00'\", 'creationDate': \"D:20240110035838Z00'00'\", 'page': 79}, page_content=\"MEDITATIONS OF MARCUS AURELIUS \\nNINTH BOOK \\nMarcus Aurelius' Meditations - tr. Casaubon v. 8.16, uploaded to www.philaletheians.co.uk, 14 July 2013 \\nPage 80 of 128 \\nXII. All those things, for matter of experience are usual and ordinary; for their con-\\ntinuance but for a day; and for their matter, most base and filthy. As they were in the \\ndays of those whom we have buried, so are they now also, and no otherwise. \\nXIII. The things themselves that affect us, they stand without doors, neither knowing \\nanything themselves nor able to utter anything unto others concerning themselves. \\nWhat then is it, that passeth verdict on them? The understanding. \\nXIV. As virtue and wickedness consist not in passion, but in action; so neither doth \\nthe true good or evil of a reasonable charitable man consist in passion, but in opera-\\ntion and action. \\nXV. To the stone that is cast up, when it comes down it is no hurt unto it; as neither \\nbenefit, when it doth ascend.\")]"
      ]
     },
     "execution_count": 46,
     "metadata": {},
     "output_type": "execute_result"
    }
   ],
   "source": [
    "unique_docs"
   ]
  },
  {
   "cell_type": "code",
   "execution_count": null,
   "metadata": {},
   "outputs": [],
   "source": [
    "# then ask LLM to answer based on these retrieved docs\n",
    "res = model.invoke(\n",
    "    prompt_template.format(\n",
    "        context=''.join([i.page_content for i in unique_docs]), \n",
    "        question=query\n",
    "    )\n",
    ")\n",
    "print(res.content)"
   ]
  },
  {
   "cell_type": "markdown",
   "metadata": {},
   "source": [
    "### Query Decomposition"
   ]
  },
  {
   "cell_type": "markdown",
   "metadata": {},
   "source": [
    "Query Decomposition, also known as sub-query generation, is the process of splitting the original input into distinct sub-queries and using the answers, questions, and retrieved documents to build a final response. The idea is to break a big problem into smaller sub-problems and use cumulative reasoning to form the final response."
   ]
  },
  {
   "cell_type": "code",
   "execution_count": 79,
   "metadata": {},
   "outputs": [],
   "source": [
    "import re\n",
    "def res_parser(response):\n",
    "    # Split on the pattern: newline, digit, dot, space\n",
    "    items = [item.strip() for item in re.split(r'(?:^|\\n)\\d+\\.\\s*', response) if item.strip()]\n",
    "    return items"
   ]
  },
  {
   "cell_type": "code",
   "execution_count": 56,
   "metadata": {},
   "outputs": [],
   "source": [
    "# Decomposition\n",
    "template = \"\"\"You are a helpful assistant that generates multiple sub-questions related to an input question. \\n\n",
    "The goal is to break down the input into a set of sub-problems / sub-questions that can be answers in isolation. \\n\n",
    "Generate multiple search queries related to: {question} \\n\n",
    "Output (2 queries):\"\"\"\n",
    "decomp_template = PromptTemplate.from_template(template)"
   ]
  },
  {
   "cell_type": "markdown",
   "metadata": {},
   "source": [
    "#### Answer recursively"
   ]
  },
  {
   "cell_type": "markdown",
   "metadata": {},
   "source": [
    "The retrieved documents and the previous answers from the sub-query are used to answer the current sub-query.\n",
    "\n",
    "![recursiveanswer](img/decomp-recursive-answer.png)"
   ]
  },
  {
   "cell_type": "code",
   "execution_count": 81,
   "metadata": {},
   "outputs": [
    {
     "name": "stdout",
     "output_type": "stream",
     "text": [
      "Main Query:  What is meditation? Response with example.\n",
      "\n",
      "Sub-queries:\n"
     ]
    },
    {
     "data": {
      "text/plain": [
       "['What does meditation primarily focus on?\\n   - Example response: Meditation often involves deep relaxation and focused awareness.',\n",
       " 'How does mindfulness contribute to the practice of meditation?\\n   - Example response: Mindfulness helps practitioners maintain attention on their present moment experiences without judgment or distraction.']"
      ]
     },
     "execution_count": 81,
     "metadata": {},
     "output_type": "execute_result"
    }
   ],
   "source": [
    "# decomp chain\n",
    "decomp_chain = (decomp_template | model)\n",
    "\n",
    "# Run\n",
    "questions = [q for q in res_parser(decomp_chain.invoke({\"question\": query}).content) if q != '']\n",
    "print('Main Query: ',query)\n",
    "print('\\nSub-queries:')\n",
    "questions"
   ]
  },
  {
   "cell_type": "code",
   "execution_count": 60,
   "metadata": {},
   "outputs": [],
   "source": [
    "# LLM Response Prompt\n",
    "template = \"\"\"Here is the question you need to answer:\n",
    "\n",
    "\\n --- \\n {question} \\n --- \\n\n",
    "\n",
    "Here is any available background question + answer pairs:\n",
    "\n",
    "\\n --- \\n {q_a_pairs} \\n --- \\n\n",
    "\n",
    "Here is additional context relevant to the question: \n",
    "\n",
    "\\n --- \\n {context} \\n --- \\n\n",
    "\n",
    "Use the above context and any background question + answer pairs to answer the question: \\n {question}\n",
    "\n",
    "<<ANSWER>>Answer:\\n\n",
    "\"\"\"\n",
    "response_prompt = PromptTemplate.from_template(template)"
   ]
  },
  {
   "cell_type": "code",
   "execution_count": 61,
   "metadata": {},
   "outputs": [],
   "source": [
    "def format_qa_pair(question, answer):\n",
    "    \"\"\"Format Q and A pair\"\"\"\n",
    "    answer = answer.split('<<ANSWER>>Answer:')[-1].strip('\\n')\n",
    "    formatted_string = \"\"\n",
    "    formatted_string += f\"Question: {question}\\nAnswer: {answer}\\n\\n\"\n",
    "    return formatted_string.strip()"
   ]
  },
  {
   "cell_type": "code",
   "execution_count": 82,
   "metadata": {},
   "outputs": [
    {
     "data": {
      "application/vnd.jupyter.widget-view+json": {
       "model_id": "d9a400a8dab24f68ad13862fbb88047f",
       "version_major": 2,
       "version_minor": 0
      },
      "text/plain": [
       "Batches:   0%|          | 0/1 [00:00<?, ?it/s]"
      ]
     },
     "metadata": {},
     "output_type": "display_data"
    },
    {
     "data": {
      "application/vnd.jupyter.widget-view+json": {
       "model_id": "dad1fcaa80a0430f8663e8f0b96ff8ed",
       "version_major": 2,
       "version_minor": 0
      },
      "text/plain": [
       "Batches:   0%|          | 0/1 [00:00<?, ?it/s]"
      ]
     },
     "metadata": {},
     "output_type": "display_data"
    },
    {
     "name": "stdout",
     "output_type": "stream",
     "text": [
      "\n",
      "Final Answer:\n",
      "Mindfulness contributes to the practice of meditation through several key aspects:\n",
      "\n",
      "1. **Awareness and Presence**: Mindfulness encourages practitioners to pay attention fully and deeply on their present experience without getting distracted by external stimuli or past events.\n",
      "\n",
      "2. **Non-Judgmental Awareness**: By focusing solely on the present moment, practitioners cultivate non-judgmental awareness. This leads to greater acceptance and peace of mind, allowing for easier access to deeper levels of awareness.\n",
      "\n",
      "3. **Detachment from Distractions**: Practitioners learn to detach from distractions and interruptions during meditation, fostering a clearer focus on their internal state and experiences.\n",
      "\n",
      "4. **Self-Compassion**: Mindfulness practices help practitioners develop self-compassion, recognizing that each moment brings challenges but also opportunities for growth and development.\n",
      "\n",
      "5. **Emotional Regulation**: Through regular mindfulness exercises, individuals can improve their ability to manage emotions effectively, leading to a more balanced and centered mindset.\n",
      "\n",
      "6. **Enhanced Focus**: Regular mindfulness practice enhances mental focus, enabling practitioners to remain engaged and attentive throughout meditation sessions.\n",
      "\n",
      "7. **Stress Reduction**: Mindfulness meditation has been shown to reduce stress and anxiety by promoting relaxation and reducing feelings of tension.\n",
      "\n",
      "8. **Improved Decision Making**: Practitioners become better equipped to make informed decisions based on their current state of awareness, rather than preconceived notions or emotional biases.\n",
      "\n",
      "Overall, mindfulness contributes significantly to the practice of meditation by providing tools for cultivating a calm, grounded, and mindful presence in daily life.\n"
     ]
    }
   ],
   "source": [
    "q_a_pairs = \"\"\n",
    "for i, q in enumerate(questions):\n",
    "    \n",
    "    # reference to building chain: https://python.langchain.com/docs/versions/migrating_chains/retrieval_qa/\n",
    "    rag_chain = (\n",
    "        {\n",
    "            \"context\": itemgetter(\"question\") | db.as_retriever(),\n",
    "            \"question\": itemgetter(\"question\"),\n",
    "            \"q_a_pairs\": itemgetter(\"q_a_pairs\")\n",
    "        }\n",
    "        | response_prompt\n",
    "        | model\n",
    "        # | output_parser\n",
    "    )\n",
    "    \n",
    "    answer = rag_chain.invoke({\"question\": q, \"q_a_pairs\": q_a_pairs})\n",
    "    q_a_pair = format_qa_pair(q, answer.content)\n",
    "    q_a_pairs = q_a_pairs + \"\\n---\\n\"+  q_a_pair\n",
    "\n",
    "print('\\nFinal Answer:\\n' +  answer.content.split('<<ANSWER>>Answer:')[-1].strip('\\n'))"
   ]
  },
  {
   "cell_type": "markdown",
   "metadata": {},
   "source": [
    "#### Answer individually"
   ]
  },
  {
   "cell_type": "markdown",
   "metadata": {},
   "source": [
    "![individualanswer](img/decomp-individual-answer.png)"
   ]
  },
  {
   "cell_type": "code",
   "execution_count": 93,
   "metadata": {},
   "outputs": [
    {
     "data": {
      "application/vnd.jupyter.widget-view+json": {
       "model_id": "fdbda11cae9a4caf8b3ab0b7072ccc3a",
       "version_major": 2,
       "version_minor": 0
      },
      "text/plain": [
       "  0%|          | 0/2 [00:00<?, ?it/s]"
      ]
     },
     "metadata": {},
     "output_type": "display_data"
    },
    {
     "data": {
      "application/vnd.jupyter.widget-view+json": {
       "model_id": "313bda78c9c14237b29cca2828a0b387",
       "version_major": 2,
       "version_minor": 0
      },
      "text/plain": [
       "Batches:   0%|          | 0/1 [00:00<?, ?it/s]"
      ]
     },
     "metadata": {},
     "output_type": "display_data"
    },
    {
     "data": {
      "application/vnd.jupyter.widget-view+json": {
       "model_id": "ca5ec8ed03a74e1584b8938118b76b21",
       "version_major": 2,
       "version_minor": 0
      },
      "text/plain": [
       "Batches:   0%|          | 0/1 [00:00<?, ?it/s]"
      ]
     },
     "metadata": {},
     "output_type": "display_data"
    }
   ],
   "source": [
    "def split_and_answer(question, prompt, expansion_chain):\n",
    "    \"\"\"RAG on each sub-question\"\"\"\n",
    "\n",
    "    # query decomposition for more sub-questions\n",
    "    res = expansion_chain.invoke({\"question\": question})\n",
    "    sub_questions = [q for q in res_parser(res.content) if q != '']\n",
    "\n",
    "    # Initialize a list to hold RAG chain results\n",
    "    rag_results = []\n",
    "    \n",
    "    for sub_question in tqdm(sub_questions):\n",
    "        \n",
    "        # Retrieve documents for each sub-question\n",
    "        retrieved_docs = db.similarity_search(sub_question, k=3)\n",
    "        \n",
    "        # Use retrieved documents and sub-question in RAG chain\n",
    "        answer = (prompt | model).invoke({\"context\": ''.join([i.page_content for i in retrieved_docs]), \"question\": sub_question})\n",
    "        rag_results.append(answer)\n",
    "    \n",
    "    return rag_results, sub_questions\n",
    "\n",
    "answers, questions = split_and_answer(query, PromptTemplate.from_template(prompt_template), decomp_chain)"
   ]
  },
  {
   "cell_type": "code",
   "execution_count": 95,
   "metadata": {},
   "outputs": [
    {
     "name": "stdout",
     "output_type": "stream",
     "text": [
      "Meditation is a mental practice that involves focusing one's mind on a particular object, thought, or experience, such as the breath, a mantra, or a visualization. The goal of meditation is to achieve a state of inner peace, clarity, and concentration. Through regular practice, meditation helps individuals develop greater awareness of their thoughts, emotions, and bodily sensations, leading to a more relaxed and centered state of mind. Examples of meditation include deep breathing techniques, mindfulness exercises, and guided meditations. By cultivating a consistent practice, individuals can improve their overall well-being, reduce stress and anxiety, and enhance their ability to concentrate and make decisions.\n"
     ]
    }
   ],
   "source": [
    "# Prompt\n",
    "final_template = \"\"\"Here is a set of Q+A pairs:\n",
    "\n",
    "{context}\n",
    "\n",
    "Use these to synthesize an answer to the question: {question}\n",
    "\n",
    "<<ANSWER>>Answer:\\n\n",
    "\"\"\"\n",
    "\n",
    "final_template  = PromptTemplate.from_template(final_template)\n",
    "\n",
    "# put all qa pairs together as a context\n",
    "formatted_string = \"\"\n",
    "for i, (question, answer) in enumerate(zip(questions, answers), start=1):\n",
    "    formatted_string += f\"Question {i}: {question}\\nAnswer {i}: {answer}\\n\\n\"\n",
    "formatted_string = formatted_string.strip()\n",
    "\n",
    "# feed all qa pairs to LLM as a context and give response to the original query\n",
    "final_res = (final_template | model).invoke({\"context\": formatted_string, \"question\": query})\n",
    "print(final_res.content)"
   ]
  }
 ],
 "metadata": {
  "kernelspec": {
   "display_name": ".venv",
   "language": "python",
   "name": "python3"
  },
  "language_info": {
   "codemirror_mode": {
    "name": "ipython",
    "version": 3
   },
   "file_extension": ".py",
   "mimetype": "text/x-python",
   "name": "python",
   "nbconvert_exporter": "python",
   "pygments_lexer": "ipython3",
   "version": "3.11.5"
  }
 },
 "nbformat": 4,
 "nbformat_minor": 2
}
