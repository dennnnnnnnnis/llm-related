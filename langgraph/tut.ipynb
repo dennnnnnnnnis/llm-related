{
 "cells": [
  {
   "cell_type": "code",
   "execution_count": 1,
   "id": "756b6dec",
   "metadata": {},
   "outputs": [],
   "source": [
    "from typing import Annotated\n",
    "\n",
    "from typing_extensions import TypedDict\n",
    "\n",
    "from langgraph.graph import StateGraph, START, END\n",
    "from langgraph.graph.message import add_messages\n",
    "\n",
    "\n",
    "class State(TypedDict):\n",
    "    # Messages have the type \"list\". The `add_messages` function\n",
    "    # in the annotation defines how this state key should be updated\n",
    "    # (in this case, it appends messages to the list, rather than overwriting them)\n",
    "    messages: Annotated[list, add_messages]\n",
    "\n",
    "\n",
    "graph_builder = StateGraph(State)"
   ]
  },
  {
   "cell_type": "code",
   "execution_count": 2,
   "id": "5854c95e",
   "metadata": {},
   "outputs": [],
   "source": [
    "from langchain_openai import ChatOpenAI\n",
    "llm = ChatOpenAI(model='/Users/wangzeyu/Desktop/Github projects/legalai-chatbot/huggingface-models/models--Qwen--Qwen2.5-0.5B-Instruct/snapshots/7ae557604adf67be50417f59c2c2f167def9a775', base_url='http://0.0.0.0:8000/v1', api_key='n')"
   ]
  },
  {
   "cell_type": "code",
   "execution_count": 3,
   "id": "629f0e73",
   "metadata": {},
   "outputs": [
    {
     "data": {
      "text/plain": [
       "<langgraph.graph.state.StateGraph at 0x128110f90>"
      ]
     },
     "execution_count": 3,
     "metadata": {},
     "output_type": "execute_result"
    }
   ],
   "source": [
    "def chatbot(state: State):\n",
    "    return {\"messages\": [llm.invoke(state[\"messages\"])]}\n",
    "\n",
    "\n",
    "# The first argument is the unique node name\n",
    "# The second argument is the function or object that will be called whenever\n",
    "# the node is used.\n",
    "graph_builder.add_node(\"chatbot\", chatbot)"
   ]
  },
  {
   "cell_type": "code",
   "execution_count": 4,
   "id": "9b07321e",
   "metadata": {},
   "outputs": [
    {
     "data": {
      "text/plain": [
       "<langgraph.graph.state.StateGraph at 0x128110f90>"
      ]
     },
     "execution_count": 4,
     "metadata": {},
     "output_type": "execute_result"
    }
   ],
   "source": [
    "# add an entry point\n",
    "graph_builder.add_edge(START, \"chatbot\")"
   ]
  },
  {
   "cell_type": "code",
   "execution_count": 5,
   "id": "207f4aaf",
   "metadata": {},
   "outputs": [
    {
     "data": {
      "text/plain": [
       "<langgraph.graph.state.StateGraph at 0x128110f90>"
      ]
     },
     "execution_count": 5,
     "metadata": {},
     "output_type": "execute_result"
    }
   ],
   "source": [
    "# add an exit point\n",
    "graph_builder.add_edge(\"chatbot\", END)"
   ]
  },
  {
   "cell_type": "code",
   "execution_count": 6,
   "id": "a8fcca92",
   "metadata": {},
   "outputs": [],
   "source": [
    "# compile the graph\n",
    "graph = graph_builder.compile()"
   ]
  },
  {
   "cell_type": "code",
   "execution_count": 7,
   "id": "6d1fc1f7",
   "metadata": {},
   "outputs": [
    {
     "name": "stdout",
     "output_type": "stream",
     "text": [
      "Assistant: LangGraph is a language model that aims to provide an accurate and detailed representation of the linguistic structure and meaning of human languages. It's designed to be as close as possible to natural language processing (NLP) as it can be, while also being capable of handling complex syntactic structures and relationships.\n",
      "\n",
      "Here are some key features and benefits of LangGraph:\n",
      "\n",
      "1. **Complexity Handling**: LangGraph is able to handle both simple and complex grammatical structures, including adjectives, nouns, pronouns, and prepositions.\n",
      "\n",
      "2. **Synonym Resolution**: It can accurately resolve synonyms across different languages, even in cases where they have very similar meanings but are spelled differently.\n",
      "\n",
      "3. **Semantic Parsing**: It can parse sentences to understand their semantic content, which helps in understanding how words relate to each other in a sentence.\n",
      "\n",
      "4. **Contextual Understanding**: LangGraph can infer context from surrounding words and phrases, allowing for more nuanced understanding of language.\n",
      "\n",
      "5. **Language-Independence**: While it relies on the underlying rules of the language, it doesn't assume any specific form or vocabulary, making it highly flexible.\n",
      "\n",
      "6. **Natural Language Processing**: It integrates with NLP tools, enabling it to perform tasks like part-of-speech tagging, named entity recognition, and sentiment analysis.\n",
      "\n",
      "7. **Multi-Language Support**: Designed to work seamlessly with various languages, including those not commonly used due to their lack of written forms.\n",
      "\n",
      "8. **Efficiency**: The core algorithm is optimized for efficiency, running at near-optimal speed even for large datasets.\n",
      "\n",
      "9. **Versatility**: It can be applied to a wide range of natural language tasks, from text generation to parsing.\n",
      "\n",
      "10. **User Interface**: Provides a user-friendly interface for inputting text, which allows users to interact with the system in a natural way.\n",
      "\n",
      "LangGraph has been developed by Alibaba Cloud, focusing on providing high-quality, scalable, and efficient solutions for natural language processing applications. Its ability to handle a broad spectrum of linguistic complexities makes it particularly useful for applications requiring precise interpretation and analysis of human language.\n",
      "Goodbye!\n"
     ]
    }
   ],
   "source": [
    "# run the chatbot\n",
    "def stream_graph_updates(user_input: str):\n",
    "    for event in graph.stream({\"messages\": [{\"role\": \"user\", \"content\": user_input}]}):\n",
    "        for value in event.values():\n",
    "            print(\"Assistant:\", value[\"messages\"][-1].content)\n",
    "\n",
    "\n",
    "while True:\n",
    "    try:\n",
    "        user_input = input(\"User: \")\n",
    "        if user_input.lower() in [\"quit\", \"exit\", \"q\"]:\n",
    "            print(\"Goodbye!\")\n",
    "            break\n",
    "        stream_graph_updates(user_input)\n",
    "    except:\n",
    "        # fallback if input() is not available\n",
    "        user_input = \"What do you know about LangGraph?\"\n",
    "        print(\"User: \" + user_input)\n",
    "        stream_graph_updates(user_input)\n",
    "        break"
   ]
  }
 ],
 "metadata": {
  "kernelspec": {
   "display_name": ".venv",
   "language": "python",
   "name": "python3"
  },
  "language_info": {
   "codemirror_mode": {
    "name": "ipython",
    "version": 3
   },
   "file_extension": ".py",
   "mimetype": "text/x-python",
   "name": "python",
   "nbconvert_exporter": "python",
   "pygments_lexer": "ipython3",
   "version": "3.11.5"
  }
 },
 "nbformat": 4,
 "nbformat_minor": 5
}
