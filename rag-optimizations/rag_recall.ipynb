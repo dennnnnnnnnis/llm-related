{
 "cells": [
  {
   "cell_type": "code",
   "execution_count": 2,
   "metadata": {},
   "outputs": [],
   "source": [
    "from langchain_community.retrievers import BM25Retriever\n",
    "from typing import List\n",
    "from langchain.text_splitter import RecursiveCharacterTextSplitter, CharacterTextSplitter\n",
    "from langchain_community.vectorstores import FAISS\n",
    "from langchain.document_loaders import CSVLoader\n",
    "from rank_bm25 import BM25Okapi\n",
    "from langchain_huggingface import HuggingFaceEmbeddings\n",
    "import os"
   ]
  },
  {
   "cell_type": "code",
   "execution_count": 3,
   "metadata": {},
   "outputs": [],
   "source": [
    "os.environ['SENTENCE_TRANSFORMERS_HOME'] = '/Users/wangzeyu/Desktop/Github projects/legalai-chatbot/huggingface-models'"
   ]
  },
  {
   "cell_type": "code",
   "execution_count": null,
   "metadata": {},
   "outputs": [],
   "source": [
    "# Different text splitter for different purpose.\n",
    "# 1. Use `RecursiveCharacterTextSplitter` for long, unstructured text\n",
    "# 2. Use `CharacterTextSplitter` for structured data or when you want simple splitting\n",
    "# 3. Use `TokenTextSplitter` when you need to respect token limits for LLMs\n",
    "# 4. Use specialized splitters (`MarkdownHeaderTextSplitter`, `HTMLHeaderTextSplitter`) for their respective document types"
   ]
  },
  {
   "cell_type": "code",
   "execution_count": 4,
   "metadata": {},
   "outputs": [],
   "source": [
    "loader = CSVLoader(\"/Users/wangzeyu/Desktop/Github projects/legalai-chatbot/data/NvidiaDocumentationQandApairs.csv\")\n",
    "documents = loader.load()\n",
    "text_splitter = CharacterTextSplitter(\n",
    "    separator=\"\\n\", # where to split the text\n",
    "    chunk_size=1000, # how big each chunk should be \n",
    "    chunk_overlap=100,\n",
    "    length_function=len,\n",
    "    add_start_index=True\n",
    ")\n",
    "docs = text_splitter.split_documents(documents)"
   ]
  },
  {
   "cell_type": "code",
   "execution_count": 5,
   "metadata": {},
   "outputs": [
    {
     "data": {
      "text/plain": [
       "Document(metadata={'source': '/Users/wangzeyu/Desktop/Github projects/legalai-chatbot/data/NvidiaDocumentationQandApairs.csv', 'row': 0, 'start_index': 0}, page_content=': 0\\nquestion: What is Hybridizer?\\nanswer: Hybridizer is a compiler from Altimesh that enables programming GPUs and accelerators using C# code or .NET Assembly.')"
      ]
     },
     "execution_count": 5,
     "metadata": {},
     "output_type": "execute_result"
    }
   ],
   "source": [
    "docs[0]"
   ]
  },
  {
   "cell_type": "markdown",
   "metadata": {},
   "source": [
    "### Document retrieval"
   ]
  },
  {
   "cell_type": "code",
   "execution_count": 6,
   "metadata": {},
   "outputs": [],
   "source": [
    "retriever = BM25Retriever.from_documents(docs, k=10)"
   ]
  },
  {
   "cell_type": "code",
   "execution_count": 7,
   "metadata": {},
   "outputs": [
    {
     "data": {
      "text/plain": [
       "[Document(metadata={'source': '/Users/wangzeyu/Desktop/Github projects/legalai-chatbot/data/NvidiaDocumentationQandApairs.csv', 'row': 0, 'start_index': 0}, page_content=': 0\\nquestion: What is Hybridizer?\\nanswer: Hybridizer is a compiler from Altimesh that enables programming GPUs and accelerators using C# code or .NET Assembly.'),\n",
       " Document(metadata={'source': '/Users/wangzeyu/Desktop/Github projects/legalai-chatbot/data/NvidiaDocumentationQandApairs.csv', 'row': 4, 'start_index': 0}, page_content=': 4\\nquestion: What is an example of using Hybridizer?\\nanswer: An example in the text demonstrates using Parallel.For with a lambda to leverage the compute power of accelerators.'),\n",
       " Document(metadata={'source': '/Users/wangzeyu/Desktop/Github projects/legalai-chatbot/data/NvidiaDocumentationQandApairs.csv', 'row': 5, 'start_index': 0}, page_content=': 5\\nquestion: How can you debug and profile GPU code written with Hybridizer?\\nanswer: You can debug and profile GPU code created with Hybridizer using NVIDIA Nsight Visual Studio Edition.'),\n",
       " Document(metadata={'source': '/Users/wangzeyu/Desktop/Github projects/legalai-chatbot/data/NvidiaDocumentationQandApairs.csv', 'row': 1699, 'start_index': 0}, page_content=': 1699\\nquestion: What is cuNumeric?\\nanswer: A library that replaces the NumPy API.'),\n",
       " Document(metadata={'source': '/Users/wangzeyu/Desktop/Github projects/legalai-chatbot/data/NvidiaDocumentationQandApairs.csv', 'row': 1708, 'start_index': 0}, page_content=': 1708\\nquestion: What is cuNumeric?\\nanswer: A library that replaces the NumPy API.'),\n",
       " Document(metadata={'source': '/Users/wangzeyu/Desktop/Github projects/legalai-chatbot/data/NvidiaDocumentationQandApairs.csv', 'row': 1712, 'start_index': 0}, page_content=': 1712\\nquestion: What is NVIDIA Nsight Compute?\\nanswer: An interactive kernel profiler for CUDA applications.'),\n",
       " Document(metadata={'source': '/Users/wangzeyu/Desktop/Github projects/legalai-chatbot/data/NvidiaDocumentationQandApairs.csv', 'row': 1694, 'start_index': 0}, page_content=': 1694\\nquestion: What is NVIDIA Nsight Compute?\\nanswer: An interactive kernel profiler for CUDA applications.'),\n",
       " Document(metadata={'source': '/Users/wangzeyu/Desktop/Github projects/legalai-chatbot/data/NvidiaDocumentationQandApairs.csv', 'row': 1697, 'start_index': 0}, page_content=': 1697\\nquestion: What type of graph is used to describe neural networks?\\nanswer: A directed graph.'),\n",
       " Document(metadata={'source': '/Users/wangzeyu/Desktop/Github projects/legalai-chatbot/data/NvidiaDocumentationQandApairs.csv', 'row': 1676, 'start_index': 0}, page_content=': 1676\\nquestion: What is the role of lidars?\\nanswer: Lidars play a role in autonomous solutions.'),\n",
       " Document(metadata={'source': '/Users/wangzeyu/Desktop/Github projects/legalai-chatbot/data/NvidiaDocumentationQandApairs.csv', 'row': 6024, 'start_index': 0}, page_content=': 6024\\nquestion: What is the abbreviation GANs stand for?\\nanswer: GANs stands for Generative Adversarial Networks.')]"
      ]
     },
     "execution_count": 7,
     "metadata": {},
     "output_type": "execute_result"
    }
   ],
   "source": [
    "text_res = retriever.invoke(\"What is Hybridizer?\")\n",
    "text_res"
   ]
  },
  {
   "cell_type": "markdown",
   "metadata": {},
   "source": [
    "### Vector embedding retrieval"
   ]
  },
  {
   "cell_type": "code",
   "execution_count": 8,
   "metadata": {},
   "outputs": [],
   "source": [
    "embeddings = HuggingFaceEmbeddings(\n",
    "    model_name='BAAI/bge-small-en-v1.5', \n",
    "    model_kwargs={'device': 'cpu'},\n",
    "    show_progress=True\n",
    ")"
   ]
  },
  {
   "cell_type": "code",
   "execution_count": 9,
   "metadata": {},
   "outputs": [],
   "source": [
    "db = FAISS.load_local('/Users/wangzeyu/Desktop/Github projects/legalai-chatbot/rag-optimizations/faiss', embeddings, allow_dangerous_deserialization=True)\n",
    "# db = FAISS.from_documents(docs, embeddings)"
   ]
  },
  {
   "cell_type": "code",
   "execution_count": 60,
   "metadata": {},
   "outputs": [],
   "source": [
    "# db.save_local('/Users/wangzeyu/Desktop/Github projects/legalai-chatbot/rag-optimizations/faiss')"
   ]
  },
  {
   "cell_type": "code",
   "execution_count": 10,
   "metadata": {},
   "outputs": [
    {
     "data": {
      "application/vnd.jupyter.widget-view+json": {
       "model_id": "2ff33aabfe194365969d40a436f0d586",
       "version_major": 2,
       "version_minor": 0
      },
      "text/plain": [
       "Batches:   0%|          | 0/1 [00:00<?, ?it/s]"
      ]
     },
     "metadata": {},
     "output_type": "display_data"
    },
    {
     "data": {
      "text/plain": [
       "[Document(id='ff35ab66-3c39-4e66-8800-e9f29e3cdfcf', metadata={'source': '/Users/wangzeyu/Desktop/Github projects/legalai-chatbot/data/NvidiaDocumentationQandApairs.csv', 'row': 0, 'start_index': 0}, page_content=': 0\\nquestion: What is Hybridizer?\\nanswer: Hybridizer is a compiler from Altimesh that enables programming GPUs and accelerators using C# code or .NET Assembly.'),\n",
       " Document(id='4a345fbc-3935-4f4d-a50c-ffda0e3a7e20', metadata={'source': '/Users/wangzeyu/Desktop/Github projects/legalai-chatbot/data/NvidiaDocumentationQandApairs.csv', 'row': 1, 'start_index': 0}, page_content=': 1\\nquestion: How does Hybridizer generate optimized code?\\nanswer: Hybridizer uses decorated symbols to express parallelism and generates source code or binaries optimized for multicore CPUs and GPUs.'),\n",
       " Document(id='5d4d0399-8a56-4bce-9e6c-bc1fec24370a', metadata={'source': '/Users/wangzeyu/Desktop/Github projects/legalai-chatbot/data/NvidiaDocumentationQandApairs.csv', 'row': 6, 'start_index': 0}, page_content=': 6\\nquestion: What advanced C# features does Hybridizer implement?\\nanswer: Hybridizer implements advanced C# features, including virtual functions and generics.'),\n",
       " Document(id='b7f92b27-d081-4d43-b513-f1934492f0e9', metadata={'source': '/Users/wangzeyu/Desktop/Github projects/legalai-chatbot/data/NvidiaDocumentationQandApairs.csv', 'row': 4, 'start_index': 0}, page_content=': 4\\nquestion: What is an example of using Hybridizer?\\nanswer: An example in the text demonstrates using Parallel.For with a lambda to leverage the compute power of accelerators.'),\n",
       " Document(id='6cc93a3b-2f5e-404c-ae98-14b6cc63077f', metadata={'source': '/Users/wangzeyu/Desktop/Github projects/legalai-chatbot/data/NvidiaDocumentationQandApairs.csv', 'row': 5, 'start_index': 0}, page_content=': 5\\nquestion: How can you debug and profile GPU code written with Hybridizer?\\nanswer: You can debug and profile GPU code created with Hybridizer using NVIDIA Nsight Visual Studio Edition.'),\n",
       " Document(id='922a4787-34ff-4dfb-a4b5-b512e84ca309', metadata={'source': '/Users/wangzeyu/Desktop/Github projects/legalai-chatbot/data/NvidiaDocumentationQandApairs.csv', 'row': 1932, 'start_index': 0}, page_content=': 1932\\nquestion: What is the purpose of using a hybrid method in the Longstaff-Schwartz algorithm?\\nanswer: The hybrid method combines GPU-based computations and CPU-based Singular Value Decomposition to optimize the linear regression process in option pricing.'),\n",
       " Document(id='76e673db-f8e0-459f-af2a-52774ccd7e75', metadata={'source': '/Users/wangzeyu/Desktop/Github projects/legalai-chatbot/data/NvidiaDocumentationQandApairs.csv', 'row': 6547, 'start_index': 0}, page_content=': 6547\\nquestion: What is the technique known as vectorization?\\nanswer: Vectorization is a technique in MATLAB that involves using matrix algebra for mathematical operations, making code inherently parallelizable.'),\n",
       " Document(id='ca193730-5731-45b9-b58f-adabdfaa47c6', metadata={'source': '/Users/wangzeyu/Desktop/Github projects/legalai-chatbot/data/NvidiaDocumentationQandApairs.csv', 'row': 5815, 'start_index': 0}, page_content=': 5815\\nquestion: What is the role of the FLAME GPU visualizer?\\nanswer: The FLAME GPU visualizer is a built-in 3D OpenGL visualizer that allows for the graphical representation of agent-based simulations. It supports instance-based rendering of agents and enables interactive manipulation and observation of emergent effects.'),\n",
       " Document(id='f1f0b474-cf0b-4d11-8bd5-c54b1c14f899', metadata={'source': '/Users/wangzeyu/Desktop/Github projects/legalai-chatbot/data/NvidiaDocumentationQandApairs.csv', 'row': 1569, 'start_index': 0}, page_content=': 1569\\nquestion: How does cuNumeric handle data distribution and parallelization across multinode environments?\\nanswer: cuNumeric employs Legate, which handles data distribution and parallelization by automatically partitioning data objects based on computation access patterns, processor capabilities, and data size. This approach ensures efficient and coherent parallel execution.'),\n",
       " Document(id='3f58ad39-7bb6-41a8-980b-c3ae6470d9af', metadata={'source': '/Users/wangzeyu/Desktop/Github projects/legalai-chatbot/data/NvidiaDocumentationQandApairs.csv', 'row': 226, 'start_index': 0}, page_content=': 226\\nquestion: What are the challenges when prefetching data in hybrid codes with CPU and GPU levels?\\nanswer: In hybrid codes with both CPU and GPU levels, prefetching must be coordinated with GPU and CPU workloads. Creating a non-blocking stream for prefetching can help overlap prefetches with compute work on the GPU.')]"
      ]
     },
     "execution_count": 10,
     "metadata": {},
     "output_type": "execute_result"
    }
   ],
   "source": [
    "vector_res = db.similarity_search(\"What is Hybridizer?\", k=10)\n",
    "vector_res"
   ]
  },
  {
   "cell_type": "markdown",
   "metadata": {},
   "source": [
    "### RRF"
   ]
  },
  {
   "cell_type": "code",
   "execution_count": 11,
   "metadata": {},
   "outputs": [],
   "source": [
    "# Explanation: https://medium.com/@devalshah1619/mathematical-intuition-behind-reciprocal-rank-fusion-rrf-explained-in-2-mins-002df0cc5e2a\n",
    "\n",
    "def rrf(vector_results: List[str], text_results: List[str], k: int=10, m: int=60):\n",
    "    \"\"\"Use RRF to rerank the results from 2 retrieval methods\n",
    "    \n",
    "    params:\n",
    "    k (int): num docs returned after rerank\n",
    "    m (int): default value for hyperparam\n",
    "    \n",
    "    return:\n",
    "    doc results after rerank, each element is (doc_id, combined_score)\n",
    "    \"\"\"\n",
    "    \n",
    "    doc_scores = {}\n",
    "    for rank, doc_id in enumerate(vector_results):\n",
    "        doc_scores[doc_id] = doc_scores.get(doc_id, 0) + 1 / (rank + m)\n",
    "    for rank, doc_id in enumerate(text_results):\n",
    "        doc_scores[doc_id] = doc_scores.get(doc_id, 0) + 1 / (rank + m)\n",
    "    \n",
    "    scored_results = [d for d, _ in sorted(doc_scores.items(), key=lambda x: x[1], reverse=True)[:k]]\n",
    "    return scored_results"
   ]
  },
  {
   "cell_type": "code",
   "execution_count": 12,
   "metadata": {},
   "outputs": [
    {
     "data": {
      "text/plain": [
       "[': 0\\nquestion: What is Hybridizer?\\nanswer: Hybridizer is a compiler from Altimesh that enables programming GPUs and accelerators using C# code or .NET Assembly.',\n",
       " ': 4\\nquestion: What is an example of using Hybridizer?\\nanswer: An example in the text demonstrates using Parallel.For with a lambda to leverage the compute power of accelerators.',\n",
       " ': 5\\nquestion: How can you debug and profile GPU code written with Hybridizer?\\nanswer: You can debug and profile GPU code created with Hybridizer using NVIDIA Nsight Visual Studio Edition.',\n",
       " ': 1\\nquestion: How does Hybridizer generate optimized code?\\nanswer: Hybridizer uses decorated symbols to express parallelism and generates source code or binaries optimized for multicore CPUs and GPUs.',\n",
       " ': 6\\nquestion: What advanced C# features does Hybridizer implement?\\nanswer: Hybridizer implements advanced C# features, including virtual functions and generics.',\n",
       " ': 1699\\nquestion: What is cuNumeric?\\nanswer: A library that replaces the NumPy API.',\n",
       " ': 1708\\nquestion: What is cuNumeric?\\nanswer: A library that replaces the NumPy API.',\n",
       " ': 1932\\nquestion: What is the purpose of using a hybrid method in the Longstaff-Schwartz algorithm?\\nanswer: The hybrid method combines GPU-based computations and CPU-based Singular Value Decomposition to optimize the linear regression process in option pricing.',\n",
       " ': 1712\\nquestion: What is NVIDIA Nsight Compute?\\nanswer: An interactive kernel profiler for CUDA applications.',\n",
       " ': 6547\\nquestion: What is the technique known as vectorization?\\nanswer: Vectorization is a technique in MATLAB that involves using matrix algebra for mathematical operations, making code inherently parallelizable.']"
      ]
     },
     "execution_count": 12,
     "metadata": {},
     "output_type": "execute_result"
    }
   ],
   "source": [
    "vector_results = [i.page_content for i in vector_res]\n",
    "text_results = [i.page_content for i in text_res]\n",
    "rrf_res = rrf(vector_results, text_results)\n",
    "rrf_res"
   ]
  },
  {
   "cell_type": "markdown",
   "metadata": {},
   "source": [
    "### LLM Response"
   ]
  },
  {
   "cell_type": "code",
   "execution_count": 13,
   "metadata": {},
   "outputs": [],
   "source": [
    "prompt_template = \"\"\"Use the following pieces of context to answer the question at the end.\n",
    "If you don't know the answer, just say that you don't know, don't try to make up an answer.\n",
    "Keep the answer as concise as possible.\n",
    "\n",
    "Context: {context}\n",
    "\n",
    "Question: {question}\n",
    "\n",
    "Helpful Answer:\"\"\""
   ]
  },
  {
   "cell_type": "code",
   "execution_count": 17,
   "metadata": {},
   "outputs": [
    {
     "name": "stdout",
     "output_type": "stream",
     "text": [
      "Hybridizer is a compiler developed by Altimesh that allows programmers to write C# or .NET Assembly code to run on GPUs and accelerators. It supports parallel processing through decorated symbols and generates optimized code for both multicore CPUs and GPUs. This makes it suitable for scenarios where performance optimization is critical, such as in finance, scientific computing, and machine learning.\n"
     ]
    }
   ],
   "source": [
    "from langchain_openai import ChatOpenAI\n",
    "model = ChatOpenAI(model='/Users/wangzeyu/Desktop/Github projects/legalai-chatbot/huggingface-models/models--Qwen--Qwen2.5-0.5B-Instruct/snapshots/7ae557604adf67be50417f59c2c2f167def9a775', base_url='http://0.0.0.0:8000/v1', api_key='n')\n",
    "rag_res = model.invoke(\n",
    "    prompt_template.format(\n",
    "        context=''.join(rrf_res),\n",
    "        question='What is Hybridizer?'\n",
    "    )\n",
    ")\n",
    "print(rag_res.content)"
   ]
  },
  {
   "cell_type": "code",
   "execution_count": 18,
   "metadata": {},
   "outputs": [
    {
     "name": "stdout",
     "output_type": "stream",
     "text": [
      "Hybridizer is a software tool designed to help users manage and organize their digital assets, such as files, images, videos, and documents. It provides a user-friendly interface that allows users to easily upload, store, share, and access their digital content.\n",
      "\n",
      "Key features of Hybridizer include:\n",
      "\n",
      "1. Digital Asset Management: Users can create and categorize digital assets, such as folders, subfolders, and files.\n",
      "2. File Sharing: Users can share their digital assets with others through various platforms like email, social media, or cloud storage services.\n",
      "3. Collaboration Tools: Hybridizer supports collaboration features, allowing multiple users to work on the same file simultaneously.\n",
      "4. Security Features: It includes built-in security measures to protect sensitive data, ensuring that only authorized users have access to shared assets.\n",
      "5. Customization Options: Users can customize the appearance and behavior of their digital assets to suit their preferences and needs.\n",
      "6. Integration Capabilities: Hybridizer integrates seamlessly with other tools and services, providing a comprehensive solution for managing digital assets across different systems and platforms.\n",
      "\n",
      "By using Hybridizer, users can efficiently manage their digital assets, enhance productivity, and streamline workflows. It's particularly useful for professionals who need to keep track of all their digital information in one place while also collaborating with colleagues and clients remotely.\n"
     ]
    }
   ],
   "source": [
    "res = model.invoke(\"What is Hybridizer?\")\n",
    "print(res.content)"
   ]
  },
  {
   "cell_type": "code",
   "execution_count": null,
   "metadata": {},
   "outputs": [],
   "source": [
    "# 除此之外也可以试一试sequence retrieval，比如先用vector embedding找出前100个docs，再用\n",
    "# text similarity rank到前10条，让模型生成response（反过来也可以）"
   ]
  }
 ],
 "metadata": {
  "kernelspec": {
   "display_name": ".venv",
   "language": "python",
   "name": "python3"
  },
  "language_info": {
   "codemirror_mode": {
    "name": "ipython",
    "version": 3
   },
   "file_extension": ".py",
   "mimetype": "text/x-python",
   "name": "python",
   "nbconvert_exporter": "python",
   "pygments_lexer": "ipython3",
   "version": "3.11.5"
  }
 },
 "nbformat": 4,
 "nbformat_minor": 2
}
